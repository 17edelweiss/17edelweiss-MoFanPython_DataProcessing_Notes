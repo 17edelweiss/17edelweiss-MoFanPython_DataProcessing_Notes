{
 "cells": [
  {
   "cell_type": "markdown",
   "id": "7091d6cd",
   "metadata": {},
   "source": [
    "# numpy索引"
   ]
  },
  {
   "cell_type": "code",
   "execution_count": 1,
   "id": "5d525731",
   "metadata": {},
   "outputs": [],
   "source": [
    "import numpy as np"
   ]
  },
  {
   "cell_type": "markdown",
   "id": "260e6247",
   "metadata": {},
   "source": [
    "## 获取一维数组中的某个元素"
   ]
  },
  {
   "cell_type": "markdown",
   "id": "209312f0",
   "metadata": {},
   "source": [
    "像Python中的列表一样，numpy中的array也可以索引某一个元素"
   ]
  },
  {
   "cell_type": "code",
   "execution_count": 2,
   "id": "f4a458b1",
   "metadata": {},
   "outputs": [
    {
     "name": "stdout",
     "output_type": "stream",
     "text": [
      "[ 3  4  5  6  7  8  9 10 11 12 13 14]\n",
      "6\n"
     ]
    }
   ],
   "source": [
    "A = np.arange(3,15)\n",
    "print(A)\n",
    "print(A[3])"
   ]
  },
  {
   "cell_type": "markdown",
   "id": "9edced0e",
   "metadata": {},
   "source": [
    "## 二维数组中的索引"
   ]
  },
  {
   "cell_type": "markdown",
   "id": "fe66bb70",
   "metadata": {},
   "source": [
    "### 索引某一行的元素"
   ]
  },
  {
   "cell_type": "code",
   "execution_count": 3,
   "id": "5dd61198",
   "metadata": {},
   "outputs": [
    {
     "name": "stdout",
     "output_type": "stream",
     "text": [
      "[[ 3  4  5  6]\n",
      " [ 7  8  9 10]\n",
      " [11 12 13 14]]\n",
      "[11 12 13 14]\n"
     ]
    }
   ],
   "source": [
    "A = np.arange(3,15).reshape((3,4))\n",
    "print(A)\n",
    "print(A[2])"
   ]
  },
  {
   "cell_type": "markdown",
   "id": "b42b32f9",
   "metadata": {},
   "source": [
    "### 索引某一个元素"
   ]
  },
  {
   "cell_type": "code",
   "execution_count": 4,
   "id": "911410e1",
   "metadata": {},
   "outputs": [
    {
     "name": "stdout",
     "output_type": "stream",
     "text": [
      "8\n",
      "8\n"
     ]
    }
   ],
   "source": [
    "print(A[1][1])\n",
    "print(A[1,1])"
   ]
  },
  {
   "cell_type": "markdown",
   "id": "63ecabc0",
   "metadata": {},
   "source": [
    "### 索引某一行或某一列的所有元素"
   ]
  },
  {
   "cell_type": "code",
   "execution_count": 5,
   "id": "548b02cd",
   "metadata": {},
   "outputs": [
    {
     "name": "stdout",
     "output_type": "stream",
     "text": [
      "[11 12 13 14]\n",
      "[ 4  8 12]\n"
     ]
    }
   ],
   "source": [
    "print(A[2,:])\n",
    "print(A[:,1])"
   ]
  },
  {
   "cell_type": "markdown",
   "id": "2fe50b20",
   "metadata": {},
   "source": [
    "### 打印某一行的指定元素"
   ]
  },
  {
   "cell_type": "code",
   "execution_count": 6,
   "id": "fd25e00c",
   "metadata": {},
   "outputs": [
    {
     "name": "stdout",
     "output_type": "stream",
     "text": [
      "[8 9]\n"
     ]
    }
   ],
   "source": [
    "print(A[1,1:3])"
   ]
  },
  {
   "cell_type": "markdown",
   "id": "68cfafb3",
   "metadata": {},
   "source": [
    "### 遍历每一行的元素"
   ]
  },
  {
   "cell_type": "markdown",
   "id": "8b85fecb",
   "metadata": {},
   "source": [
    "用for循环迭代A时，默认是迭代array中的行"
   ]
  },
  {
   "cell_type": "code",
   "execution_count": 7,
   "id": "b011eccf",
   "metadata": {},
   "outputs": [
    {
     "name": "stdout",
     "output_type": "stream",
     "text": [
      "[3 4 5 6]\n",
      "[ 7  8  9 10]\n",
      "[11 12 13 14]\n"
     ]
    }
   ],
   "source": [
    "for row in A:\n",
    "    print(row)"
   ]
  },
  {
   "cell_type": "markdown",
   "id": "5e1da9bd",
   "metadata": {},
   "source": [
    "### 遍历每一列的元素"
   ]
  },
  {
   "cell_type": "markdown",
   "id": "0f999d93",
   "metadata": {},
   "source": [
    "numpy的array中没有这样的迭代，但是可以通过矩阵的转置来实现，迭代转置后的行其实就是迭代转置前的列"
   ]
  },
  {
   "cell_type": "code",
   "execution_count": 8,
   "id": "65238357",
   "metadata": {},
   "outputs": [
    {
     "name": "stdout",
     "output_type": "stream",
     "text": [
      "[ 3  7 11]\n",
      "[ 4  8 12]\n",
      "[ 5  9 13]\n",
      "[ 6 10 14]\n"
     ]
    }
   ],
   "source": [
    "for column in A.T:\n",
    "    print(column)"
   ]
  },
  {
   "cell_type": "markdown",
   "id": "86907a4b",
   "metadata": {},
   "source": [
    "## 遍历每一个元素"
   ]
  },
  {
   "cell_type": "markdown",
   "id": "0fa6a1e9",
   "metadata": {},
   "source": [
    "A.flat返回的是一个迭代器，可以用for访问数组的每一个元素，但不能直接打印。而flatten返回的是一份数组拷贝，对拷贝所做的修改不会影响原始数组"
   ]
  },
  {
   "cell_type": "code",
   "execution_count": 9,
   "id": "4d00b138",
   "metadata": {},
   "outputs": [
    {
     "name": "stdout",
     "output_type": "stream",
     "text": [
      "<numpy.flatiter object at 0x000002007590D020>\n",
      "[ 3  4  5  6  7  8  9 10 11 12 13 14]\n",
      "3 4 5 6 7 8 9 10 11 12 13 14 "
     ]
    }
   ],
   "source": [
    "print(A.flat)\n",
    "print(A.flatten())\n",
    "for item in A.flat:\n",
    "    print(item,end=' ')"
   ]
  }
 ],
 "metadata": {
  "kernelspec": {
   "display_name": "Python 3 (ipykernel)",
   "language": "python",
   "name": "python3"
  },
  "language_info": {
   "codemirror_mode": {
    "name": "ipython",
    "version": 3
   },
   "file_extension": ".py",
   "mimetype": "text/x-python",
   "name": "python",
   "nbconvert_exporter": "python",
   "pygments_lexer": "ipython3",
   "version": "3.9.12"
  }
 },
 "nbformat": 4,
 "nbformat_minor": 5
}
