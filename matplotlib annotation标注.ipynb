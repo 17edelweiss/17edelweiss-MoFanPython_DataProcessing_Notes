{
 "cells": [
  {
   "cell_type": "markdown",
   "id": "66cd3863",
   "metadata": {},
   "source": [
    "# matplotlib annotation标注"
   ]
  },
  {
   "cell_type": "code",
   "execution_count": 1,
   "id": "afb37806",
   "metadata": {},
   "outputs": [
    {
     "name": "stdout",
     "output_type": "stream",
     "text": [
      "Using matplotlib backend: <object object at 0x000001D27D553880>\n"
     ]
    }
   ],
   "source": [
    "import matplotlib.pyplot as plt\n",
    "import numpy as np\n",
    "%matplotlib"
   ]
  },
  {
   "cell_type": "code",
   "execution_count": 2,
   "id": "a169b064",
   "metadata": {},
   "outputs": [],
   "source": [
    "x = np.linspace(-3,3,50)\n",
    "y = 2*x+1\n",
    "\n",
    "plt.figure(num=1,figsize=(8,5))\n",
    "plt.plot(x,y)\n",
    "ax = plt.gca()\n",
    "ax.spines['right'].set_color('none')\n",
    "ax.spines['top'].set_color('none')\n",
    "ax.xaxis.set_ticks_position('bottom')\n",
    "ax.spines['bottom'].set_position(('data',0))\n",
    "ax.yaxis.set_ticks_position('left')\n",
    "ax.spines['left'].set_position(('data',0))\n",
    "\n",
    "#添加一个点\n",
    "x0 = 1\n",
    "y0 = 2*x0+1\n",
    "plt.scatter(x0,y0,s=50,color='blue')\n",
    "#设置虚线，两点确定一条直线，传入两个点的x坐标和y坐标\n",
    "plt.plot([x0,x0],[y0,0],'k--',lw=2.5) #k--表示black的虚线,lw表示line width\n",
    "\n",
    "#使用annotation的方法一\n",
    "plt.annotate(r'$2x+1=%s$'% y0,xy=(x0,y0),xycoords='data',xytext=(+30,-30),\n",
    "            textcoords='offset points',fontsize=16,arrowprops=dict(arrowstyle='->',connectionstyle='arc3,rad=.2'))\n",
    "\n",
    "#使用annotation的方法二\n",
    "plt.text(-3.7,3,r'$This\\ is\\ the\\ some\\ text.\\ \\mu\\ \\sigma_i\\ \\alpha_t$',\n",
    "        fontdict={'size':16,'color':'r'})\n",
    "plt.show(block=True)"
   ]
  }
 ],
 "metadata": {
  "kernelspec": {
   "display_name": "Python 3 (ipykernel)",
   "language": "python",
   "name": "python3"
  },
  "language_info": {
   "codemirror_mode": {
    "name": "ipython",
    "version": 3
   },
   "file_extension": ".py",
   "mimetype": "text/x-python",
   "name": "python",
   "nbconvert_exporter": "python",
   "pygments_lexer": "ipython3",
   "version": "3.9.12"
  }
 },
 "nbformat": 4,
 "nbformat_minor": 5
}
