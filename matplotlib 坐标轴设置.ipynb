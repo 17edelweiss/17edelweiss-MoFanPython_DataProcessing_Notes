{
 "cells": [
  {
   "cell_type": "markdown",
   "id": "0158f398",
   "metadata": {},
   "source": [
    "# matplotlib 坐标轴设置"
   ]
  },
  {
   "cell_type": "code",
   "execution_count": 1,
   "id": "d747c4cb",
   "metadata": {},
   "outputs": [
    {
     "name": "stdout",
     "output_type": "stream",
     "text": [
      "Using matplotlib backend: <object object at 0x0000015301279880>\n"
     ]
    }
   ],
   "source": [
    "import matplotlib.pyplot as plt\n",
    "import numpy as np\n",
    "%matplotlib"
   ]
  },
  {
   "cell_type": "code",
   "execution_count": 2,
   "id": "34915a9f",
   "metadata": {},
   "outputs": [
    {
     "name": "stdout",
     "output_type": "stream",
     "text": [
      "[-1.   -0.25  0.5   1.25  2.  ]\n"
     ]
    }
   ],
   "source": [
    "x = np.linspace(-3,3,50)\n",
    "y1 = 2*x+1\n",
    "y2 = x**2\n",
    "\n",
    "plt.figure()\n",
    "plt.plot(x,y2)\n",
    "plt.plot(x,y1,color='red',linewidth=1.0,linestyle='--')\n",
    "plt.xlim((-1,2)) #设置x轴的取值范围\n",
    "plt.ylim((-2,3)) #设置y轴的取值范围\n",
    "plt.xlabel(\"I am x\") #描述x轴\n",
    "plt.ylabel('I am y') #描述y轴\n",
    "\n",
    "new_ticks = np.linspace(-1,2,5)\n",
    "print(new_ticks)\n",
    "plt.xticks(new_ticks) #修改x轴的刻标\n",
    "plt.yticks([-2,-1.8,-1,1.22,3],\n",
    "           [r'$really\\ bad$',r'$bad\\ \\alpha$',r'$normal$',r'$good$',r'$really\\ good$']) #修改y轴的刻度标签\n",
    "plt.show(block = True)"
   ]
  },
  {
   "cell_type": "markdown",
   "id": "dd15132d",
   "metadata": {},
   "source": [
    "ticks表示刻度，刻度分为两种，一种是刻标，一种是刻度标签。修改y标签的字体样式时，可以加$符号改成美元形式，空格在美元形式中无法被读取，需要加转义符号，如果想使用数学符号，也需要加转义字符"
   ]
  }
 ],
 "metadata": {
  "kernelspec": {
   "display_name": "Python 3 (ipykernel)",
   "language": "python",
   "name": "python3"
  },
  "language_info": {
   "codemirror_mode": {
    "name": "ipython",
    "version": 3
   },
   "file_extension": ".py",
   "mimetype": "text/x-python",
   "name": "python",
   "nbconvert_exporter": "python",
   "pygments_lexer": "ipython3",
   "version": "3.9.12"
  }
 },
 "nbformat": 4,
 "nbformat_minor": 5
}
