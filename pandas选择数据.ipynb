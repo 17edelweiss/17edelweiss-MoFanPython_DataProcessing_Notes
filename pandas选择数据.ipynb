{
 "cells": [
  {
   "cell_type": "markdown",
   "id": "74fb16ce",
   "metadata": {},
   "source": [
    "# pandas选择数据"
   ]
  },
  {
   "cell_type": "code",
   "execution_count": 1,
   "id": "3d302475",
   "metadata": {},
   "outputs": [],
   "source": [
    "import pandas as pd\n",
    "import numpy as np"
   ]
  },
  {
   "cell_type": "code",
   "execution_count": 2,
   "id": "3dccbf33",
   "metadata": {},
   "outputs": [
    {
     "data": {
      "text/html": [
       "<div>\n",
       "<style scoped>\n",
       "    .dataframe tbody tr th:only-of-type {\n",
       "        vertical-align: middle;\n",
       "    }\n",
       "\n",
       "    .dataframe tbody tr th {\n",
       "        vertical-align: top;\n",
       "    }\n",
       "\n",
       "    .dataframe thead th {\n",
       "        text-align: right;\n",
       "    }\n",
       "</style>\n",
       "<table border=\"1\" class=\"dataframe\">\n",
       "  <thead>\n",
       "    <tr style=\"text-align: right;\">\n",
       "      <th></th>\n",
       "      <th>A</th>\n",
       "      <th>B</th>\n",
       "      <th>C</th>\n",
       "      <th>D</th>\n",
       "    </tr>\n",
       "  </thead>\n",
       "  <tbody>\n",
       "    <tr>\n",
       "      <th>2022-06-07</th>\n",
       "      <td>0</td>\n",
       "      <td>1</td>\n",
       "      <td>2</td>\n",
       "      <td>3</td>\n",
       "    </tr>\n",
       "    <tr>\n",
       "      <th>2022-06-08</th>\n",
       "      <td>4</td>\n",
       "      <td>5</td>\n",
       "      <td>6</td>\n",
       "      <td>7</td>\n",
       "    </tr>\n",
       "    <tr>\n",
       "      <th>2022-06-09</th>\n",
       "      <td>8</td>\n",
       "      <td>9</td>\n",
       "      <td>10</td>\n",
       "      <td>11</td>\n",
       "    </tr>\n",
       "    <tr>\n",
       "      <th>2022-06-10</th>\n",
       "      <td>12</td>\n",
       "      <td>13</td>\n",
       "      <td>14</td>\n",
       "      <td>15</td>\n",
       "    </tr>\n",
       "    <tr>\n",
       "      <th>2022-06-11</th>\n",
       "      <td>16</td>\n",
       "      <td>17</td>\n",
       "      <td>18</td>\n",
       "      <td>19</td>\n",
       "    </tr>\n",
       "    <tr>\n",
       "      <th>2022-06-12</th>\n",
       "      <td>20</td>\n",
       "      <td>21</td>\n",
       "      <td>22</td>\n",
       "      <td>23</td>\n",
       "    </tr>\n",
       "  </tbody>\n",
       "</table>\n",
       "</div>"
      ],
      "text/plain": [
       "             A   B   C   D\n",
       "2022-06-07   0   1   2   3\n",
       "2022-06-08   4   5   6   7\n",
       "2022-06-09   8   9  10  11\n",
       "2022-06-10  12  13  14  15\n",
       "2022-06-11  16  17  18  19\n",
       "2022-06-12  20  21  22  23"
      ]
     },
     "execution_count": 2,
     "metadata": {},
     "output_type": "execute_result"
    }
   ],
   "source": [
    "dates = pd.date_range('20220607',periods=6)\n",
    "df = pd.DataFrame(np.arange(24).reshape(6,4),index=dates,columns=['A','B','C','D'])\n",
    "df"
   ]
  },
  {
   "cell_type": "markdown",
   "id": "75331efa",
   "metadata": {},
   "source": [
    "## 选择DataFrame的指定行列"
   ]
  },
  {
   "cell_type": "code",
   "execution_count": 3,
   "id": "dbf844b9",
   "metadata": {},
   "outputs": [
    {
     "name": "stdout",
     "output_type": "stream",
     "text": [
      "2022-06-07     0\n",
      "2022-06-08     4\n",
      "2022-06-09     8\n",
      "2022-06-10    12\n",
      "2022-06-11    16\n",
      "2022-06-12    20\n",
      "Freq: D, Name: A, dtype: int32\n",
      "2022-06-07     0\n",
      "2022-06-08     4\n",
      "2022-06-09     8\n",
      "2022-06-10    12\n",
      "2022-06-11    16\n",
      "2022-06-12    20\n",
      "Freq: D, Name: A, dtype: int32\n"
     ]
    }
   ],
   "source": [
    "print(df['A'])\n",
    "print(df.A)"
   ]
  },
  {
   "cell_type": "markdown",
   "id": "419be18a",
   "metadata": {},
   "source": [
    "也可以用切片的形式选择某一行"
   ]
  },
  {
   "cell_type": "code",
   "execution_count": 4,
   "id": "a9682864",
   "metadata": {},
   "outputs": [
    {
     "name": "stdout",
     "output_type": "stream",
     "text": [
      "            A  B   C   D\n",
      "2022-06-07  0  1   2   3\n",
      "2022-06-08  4  5   6   7\n",
      "2022-06-09  8  9  10  11\n",
      "            A  B   C   D\n",
      "2022-06-07  0  1   2   3\n",
      "2022-06-08  4  5   6   7\n",
      "2022-06-09  8  9  10  11\n"
     ]
    }
   ],
   "source": [
    "print(df[0:3])\n",
    "print(df['20220607':'20220609'])"
   ]
  },
  {
   "cell_type": "markdown",
   "id": "470543eb",
   "metadata": {},
   "source": [
    "## 由标签选取数据(select by label:loc)"
   ]
  },
  {
   "cell_type": "markdown",
   "id": "40f23795",
   "metadata": {},
   "source": [
    "由行索引(index)选择某行"
   ]
  },
  {
   "cell_type": "code",
   "execution_count": 5,
   "id": "e2a335f7",
   "metadata": {},
   "outputs": [
    {
     "name": "stdout",
     "output_type": "stream",
     "text": [
      "A    0\n",
      "B    1\n",
      "C    2\n",
      "D    3\n",
      "Name: 2022-06-07 00:00:00, dtype: int32\n"
     ]
    }
   ],
   "source": [
    "print(df.loc['20220607'])"
   ]
  },
  {
   "cell_type": "markdown",
   "id": "e43c940e",
   "metadata": {},
   "source": [
    "由列索引(columns)选择某几列"
   ]
  },
  {
   "cell_type": "code",
   "execution_count": 6,
   "id": "df3d3ab8",
   "metadata": {},
   "outputs": [
    {
     "name": "stdout",
     "output_type": "stream",
     "text": [
      "             A   B\n",
      "2022-06-07   0   1\n",
      "2022-06-08   4   5\n",
      "2022-06-09   8   9\n",
      "2022-06-10  12  13\n",
      "2022-06-11  16  17\n",
      "2022-06-12  20  21\n"
     ]
    }
   ],
   "source": [
    "print(df.loc[:,['A','B']])"
   ]
  },
  {
   "cell_type": "code",
   "execution_count": 7,
   "id": "f5b22b08",
   "metadata": {},
   "outputs": [
    {
     "name": "stdout",
     "output_type": "stream",
     "text": [
      "A    12\n",
      "B    13\n",
      "Name: 2022-06-10 00:00:00, dtype: int32\n"
     ]
    }
   ],
   "source": [
    "print(df.loc['20220610',['A','B']])"
   ]
  },
  {
   "cell_type": "markdown",
   "id": "dd6faba7",
   "metadata": {},
   "source": [
    "## 由位置选择行列(select by position:iloc)"
   ]
  },
  {
   "cell_type": "code",
   "execution_count": 8,
   "id": "792a8a21",
   "metadata": {},
   "outputs": [
    {
     "name": "stdout",
     "output_type": "stream",
     "text": [
      "A    12\n",
      "B    13\n",
      "C    14\n",
      "D    15\n",
      "Name: 2022-06-10 00:00:00, dtype: int32\n"
     ]
    }
   ],
   "source": [
    "print(df.iloc[3])"
   ]
  },
  {
   "cell_type": "code",
   "execution_count": 9,
   "id": "98ff1951",
   "metadata": {},
   "outputs": [
    {
     "name": "stdout",
     "output_type": "stream",
     "text": [
      "13\n",
      "             B   C\n",
      "2022-06-10  13  14\n",
      "2022-06-11  17  18\n",
      "             B   C\n",
      "2022-06-08   5   6\n",
      "2022-06-10  13  14\n",
      "2022-06-12  21  22\n"
     ]
    }
   ],
   "source": [
    "print(df.iloc[3,1]) #选择某个数据\n",
    "print(df.iloc[3:5,1:3]) #使用切片选择连续的一部分数据\n",
    "print(df.iloc[[1,3,5],1:3]) #选择不连续的数据"
   ]
  },
  {
   "cell_type": "markdown",
   "id": "71f03b2f",
   "metadata": {},
   "source": [
    "## Boolean indexing(是或否的筛选)"
   ]
  },
  {
   "cell_type": "code",
   "execution_count": 10,
   "id": "9f5e8c30",
   "metadata": {},
   "outputs": [
    {
     "data": {
      "text/html": [
       "<div>\n",
       "<style scoped>\n",
       "    .dataframe tbody tr th:only-of-type {\n",
       "        vertical-align: middle;\n",
       "    }\n",
       "\n",
       "    .dataframe tbody tr th {\n",
       "        vertical-align: top;\n",
       "    }\n",
       "\n",
       "    .dataframe thead th {\n",
       "        text-align: right;\n",
       "    }\n",
       "</style>\n",
       "<table border=\"1\" class=\"dataframe\">\n",
       "  <thead>\n",
       "    <tr style=\"text-align: right;\">\n",
       "      <th></th>\n",
       "      <th>A</th>\n",
       "      <th>B</th>\n",
       "      <th>C</th>\n",
       "      <th>D</th>\n",
       "    </tr>\n",
       "  </thead>\n",
       "  <tbody>\n",
       "    <tr>\n",
       "      <th>2022-06-07</th>\n",
       "      <td>0</td>\n",
       "      <td>1</td>\n",
       "      <td>2</td>\n",
       "      <td>3</td>\n",
       "    </tr>\n",
       "    <tr>\n",
       "      <th>2022-06-08</th>\n",
       "      <td>4</td>\n",
       "      <td>5</td>\n",
       "      <td>6</td>\n",
       "      <td>7</td>\n",
       "    </tr>\n",
       "    <tr>\n",
       "      <th>2022-06-09</th>\n",
       "      <td>8</td>\n",
       "      <td>9</td>\n",
       "      <td>10</td>\n",
       "      <td>11</td>\n",
       "    </tr>\n",
       "    <tr>\n",
       "      <th>2022-06-10</th>\n",
       "      <td>12</td>\n",
       "      <td>13</td>\n",
       "      <td>14</td>\n",
       "      <td>15</td>\n",
       "    </tr>\n",
       "    <tr>\n",
       "      <th>2022-06-11</th>\n",
       "      <td>16</td>\n",
       "      <td>17</td>\n",
       "      <td>18</td>\n",
       "      <td>19</td>\n",
       "    </tr>\n",
       "    <tr>\n",
       "      <th>2022-06-12</th>\n",
       "      <td>20</td>\n",
       "      <td>21</td>\n",
       "      <td>22</td>\n",
       "      <td>23</td>\n",
       "    </tr>\n",
       "  </tbody>\n",
       "</table>\n",
       "</div>"
      ],
      "text/plain": [
       "             A   B   C   D\n",
       "2022-06-07   0   1   2   3\n",
       "2022-06-08   4   5   6   7\n",
       "2022-06-09   8   9  10  11\n",
       "2022-06-10  12  13  14  15\n",
       "2022-06-11  16  17  18  19\n",
       "2022-06-12  20  21  22  23"
      ]
     },
     "execution_count": 10,
     "metadata": {},
     "output_type": "execute_result"
    }
   ],
   "source": [
    "df"
   ]
  },
  {
   "cell_type": "code",
   "execution_count": 11,
   "id": "a55e1d2c",
   "metadata": {},
   "outputs": [
    {
     "name": "stdout",
     "output_type": "stream",
     "text": [
      "             A   B   C   D\n",
      "2022-06-10  12  13  14  15\n",
      "2022-06-11  16  17  18  19\n",
      "2022-06-12  20  21  22  23\n",
      "            A  B   C   D\n",
      "2022-06-07  0  1   2   3\n",
      "2022-06-08  4  5   6   7\n",
      "2022-06-09  8  9  10  11\n"
     ]
    }
   ],
   "source": [
    "print(df[df.A>8]) #筛选DataFrame中A列大于8的行\n",
    "print(df[df.B<13])"
   ]
  }
 ],
 "metadata": {
  "kernelspec": {
   "display_name": "Python 3 (ipykernel)",
   "language": "python",
   "name": "python3"
  },
  "language_info": {
   "codemirror_mode": {
    "name": "ipython",
    "version": 3
   },
   "file_extension": ".py",
   "mimetype": "text/x-python",
   "name": "python",
   "nbconvert_exporter": "python",
   "pygments_lexer": "ipython3",
   "version": "3.9.12"
  }
 },
 "nbformat": 4,
 "nbformat_minor": 5
}
