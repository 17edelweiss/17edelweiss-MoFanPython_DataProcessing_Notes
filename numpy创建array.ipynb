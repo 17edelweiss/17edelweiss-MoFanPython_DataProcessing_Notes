{
 "cells": [
  {
   "cell_type": "markdown",
   "id": "532742d9",
   "metadata": {},
   "source": [
    "# numpy创建array"
   ]
  },
  {
   "cell_type": "code",
   "execution_count": 1,
   "id": "173c1a37",
   "metadata": {},
   "outputs": [],
   "source": [
    "import numpy as np"
   ]
  },
  {
   "cell_type": "markdown",
   "id": "7d76e00c",
   "metadata": {},
   "source": [
    "## 创建一维数组"
   ]
  },
  {
   "cell_type": "markdown",
   "id": "59aa919e",
   "metadata": {},
   "source": [
    "括号里面填入要创建的这个array的参数，通常是列表形式，打印的结果其实和列表没有什么差别，不过中间没有了**逗号**"
   ]
  },
  {
   "cell_type": "code",
   "execution_count": 2,
   "id": "f8cae575",
   "metadata": {},
   "outputs": [
    {
     "name": "stdout",
     "output_type": "stream",
     "text": [
      "[1 2 3]\n"
     ]
    }
   ],
   "source": [
    "a = np.array([1,2,3])\n",
    "print(a)"
   ]
  },
  {
   "cell_type": "markdown",
   "id": "44d965cb",
   "metadata": {},
   "source": [
    "## 定义array的类型"
   ]
  },
  {
   "cell_type": "markdown",
   "id": "7385e7a0",
   "metadata": {},
   "source": [
    "每一种array可以定义它的类型(小数形式还是整数形式)，在创建的时候可以指定它的类型，使用**dtype = np.数据类型**或者直接用**dtype = 数据类型**"
   ]
  },
  {
   "cell_type": "code",
   "execution_count": 3,
   "id": "c641c0c1",
   "metadata": {},
   "outputs": [
    {
     "name": "stdout",
     "output_type": "stream",
     "text": [
      "int32\n",
      "int64\n",
      "float32\n",
      "float64\n"
     ]
    }
   ],
   "source": [
    "a = np.array([1,2,3],dtype=int)\n",
    "print(a.dtype)\n",
    "a = np.array([1,2,3],dtype=np.int64)\n",
    "print(a.dtype)\n",
    "a = np.array([1,2,3],dtype=np.float32)\n",
    "print(a.dtype)\n",
    "a = np.array([1,2,3],dtype=np.float64)\n",
    "print(a.dtype)"
   ]
  },
  {
   "cell_type": "markdown",
   "id": "cbf4a5fc",
   "metadata": {},
   "source": [
    "通常来说位数越小所占用的空间就越小，但如果想要更精确的话，就需要位数更大的类型"
   ]
  },
  {
   "cell_type": "markdown",
   "id": "b551343b",
   "metadata": {},
   "source": [
    "## 定义二维的array(矩阵)"
   ]
  },
  {
   "cell_type": "code",
   "execution_count": 4,
   "id": "7792f03c",
   "metadata": {},
   "outputs": [
    {
     "name": "stdout",
     "output_type": "stream",
     "text": [
      "[[1 2 3]\n",
      " [4 5 6]]\n"
     ]
    }
   ],
   "source": [
    "a = np.array([[1,2,3],\n",
    "              [4,5,6]])\n",
    "print(a)"
   ]
  },
  {
   "cell_type": "markdown",
   "id": "ac6337ce",
   "metadata": {},
   "source": [
    "## 生成全部为0的矩阵"
   ]
  },
  {
   "cell_type": "markdown",
   "id": "42c1b8bf",
   "metadata": {},
   "source": [
    "括号里面填入行数和列数，注意行数和列数要用( )或者用[ ]括起来，在默认的情况下，zeros创建的数组元素类型是浮点型的，如果要使用其他类型，可以设置dtype参数进行声明"
   ]
  },
  {
   "cell_type": "code",
   "execution_count": 5,
   "id": "c27c89a7",
   "metadata": {},
   "outputs": [
    {
     "name": "stdout",
     "output_type": "stream",
     "text": [
      "[[0 0 0 0]\n",
      " [0 0 0 0]\n",
      " [0 0 0 0]]\n"
     ]
    }
   ],
   "source": [
    "a = np.zeros([3,4],dtype=np.int16)\n",
    "print(a)"
   ]
  },
  {
   "cell_type": "markdown",
   "id": "9f08134f",
   "metadata": {},
   "source": [
    "## 生成全部为1的矩阵"
   ]
  },
  {
   "cell_type": "code",
   "execution_count": 6,
   "id": "d51c5938",
   "metadata": {},
   "outputs": [
    {
     "name": "stdout",
     "output_type": "stream",
     "text": [
      "[[1. 1. 1. 1.]\n",
      " [1. 1. 1. 1.]\n",
      " [1. 1. 1. 1.]]\n"
     ]
    }
   ],
   "source": [
    "a = np.ones((3,4))\n",
    "print(a)"
   ]
  },
  {
   "cell_type": "markdown",
   "id": "d9b2788f",
   "metadata": {},
   "source": [
    "## 创建没有具体值的数组"
   ]
  },
  {
   "cell_type": "code",
   "execution_count": 7,
   "id": "087ec78e",
   "metadata": {},
   "outputs": [
    {
     "name": "stdout",
     "output_type": "stream",
     "text": [
      "[[1. 1. 1. 1.]\n",
      " [1. 1. 1. 1.]\n",
      " [1. 1. 1. 1.]]\n"
     ]
    }
   ],
   "source": [
    "a = np.empty((3,4))\n",
    "print(a)"
   ]
  },
  {
   "cell_type": "markdown",
   "id": "3288dd30",
   "metadata": {},
   "source": [
    "## 生成有序的数列或矩阵"
   ]
  },
  {
   "cell_type": "code",
   "execution_count": 8,
   "id": "25b1445b",
   "metadata": {},
   "outputs": [
    {
     "name": "stdout",
     "output_type": "stream",
     "text": [
      "[10 12 14 16 18]\n"
     ]
    }
   ],
   "source": [
    "a = np.arange(10,20,2) #类似于Python中的range\n",
    "print(a)"
   ]
  },
  {
   "cell_type": "markdown",
   "id": "f946c96d",
   "metadata": {},
   "source": [
    "## 改变数列的维度"
   ]
  },
  {
   "cell_type": "markdown",
   "id": "fdbd60e8",
   "metadata": {},
   "source": [
    "使用reshpe()函数"
   ]
  },
  {
   "cell_type": "code",
   "execution_count": 9,
   "id": "7c373f4c",
   "metadata": {},
   "outputs": [
    {
     "name": "stdout",
     "output_type": "stream",
     "text": [
      "[ 0  1  2  3  4  5  6  7  8  9 10 11]\n",
      "[[ 0  1  2  3]\n",
      " [ 4  5  6  7]\n",
      " [ 8  9 10 11]]\n"
     ]
    }
   ],
   "source": [
    "a = np.arange(12)\n",
    "print(a)\n",
    "a = np.arange(12).reshape((3,4)) #reshape中要用()或者用[]括起来\n",
    "print(a)"
   ]
  },
  {
   "cell_type": "markdown",
   "id": "1aa31182",
   "metadata": {},
   "source": [
    "## 生成等差数列"
   ]
  },
  {
   "cell_type": "markdown",
   "id": "ce28b312",
   "metadata": {},
   "source": [
    "numpy.linspace()用于在线性空间中以均匀步长生成数字序列"
   ]
  },
  {
   "cell_type": "code",
   "execution_count": 10,
   "id": "6ad9fb3f",
   "metadata": {},
   "outputs": [
    {
     "name": "stdout",
     "output_type": "stream",
     "text": [
      "[ 1.    3.25  5.5   7.75 10.  ]\n"
     ]
    }
   ],
   "source": [
    "a = np.linspace(1,10,5)\n",
    "print(a)"
   ]
  },
  {
   "cell_type": "code",
   "execution_count": 11,
   "id": "a69dbd30",
   "metadata": {},
   "outputs": [
    {
     "name": "stdout",
     "output_type": "stream",
     "text": [
      "[[ 1.   2.8  4.6]\n",
      " [ 6.4  8.2 10. ]]\n"
     ]
    }
   ],
   "source": [
    "a = np.linspace(1,10,6).reshape((2,3))\n",
    "print(a)"
   ]
  }
 ],
 "metadata": {
  "kernelspec": {
   "display_name": "Python 3 (ipykernel)",
   "language": "python",
   "name": "python3"
  },
  "language_info": {
   "codemirror_mode": {
    "name": "ipython",
    "version": 3
   },
   "file_extension": ".py",
   "mimetype": "text/x-python",
   "name": "python",
   "nbconvert_exporter": "python",
   "pygments_lexer": "ipython3",
   "version": "3.9.12"
  }
 },
 "nbformat": 4,
 "nbformat_minor": 5
}
