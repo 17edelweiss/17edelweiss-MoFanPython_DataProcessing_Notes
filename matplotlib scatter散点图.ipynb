{
 "cells": [
  {
   "cell_type": "markdown",
   "id": "2190badd",
   "metadata": {},
   "source": [
    "# matplotlib scatter散点图"
   ]
  },
  {
   "cell_type": "code",
   "execution_count": 1,
   "id": "61e94b24",
   "metadata": {},
   "outputs": [
    {
     "name": "stdout",
     "output_type": "stream",
     "text": [
      "Using matplotlib backend: <object object at 0x0000020C099AA880>\n"
     ]
    }
   ],
   "source": [
    "import matplotlib.pyplot as plt\n",
    "import numpy as np\n",
    "%matplotlib"
   ]
  },
  {
   "cell_type": "code",
   "execution_count": 2,
   "id": "cfa27f5d",
   "metadata": {},
   "outputs": [],
   "source": [
    "n = 1024\n",
    "X = np.random.normal(0,1,n) #生成符合正态分布的平均值为0，方差为1的1024个数\n",
    "Y = np.random.normal(0,1,n)\n",
    "T = np.arctan2(Y,X) #计算点的颜色\n",
    "\n",
    "plt.scatter(X,Y,s=75,c=T,alpha=0.5) #s表示size，c表示color,alpha表示透明度\n",
    "#plt.scatter(np.arange(5),np.arange(5))\n",
    "plt.xlim((-1.5,1.5))\n",
    "plt.ylim((-1.5,1.5))\n",
    "plt.xticks(())#隐藏ｘ轴的刻标\n",
    "plt.yticks(())#隐藏ｙ轴的刻标\n",
    "plt.show(block=True)"
   ]
  }
 ],
 "metadata": {
  "kernelspec": {
   "display_name": "Python 3 (ipykernel)",
   "language": "python",
   "name": "python3"
  },
  "language_info": {
   "codemirror_mode": {
    "name": "ipython",
    "version": 3
   },
   "file_extension": ".py",
   "mimetype": "text/x-python",
   "name": "python",
   "nbconvert_exporter": "python",
   "pygments_lexer": "ipython3",
   "version": "3.9.12"
  }
 },
 "nbformat": 4,
 "nbformat_minor": 5
}
