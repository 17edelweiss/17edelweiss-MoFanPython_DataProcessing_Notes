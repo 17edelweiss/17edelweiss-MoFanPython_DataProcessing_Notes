{
 "cells": [
  {
   "cell_type": "markdown",
   "id": "489670a0",
   "metadata": {},
   "source": [
    "# Numpy的基础运算1"
   ]
  },
  {
   "cell_type": "markdown",
   "id": "5efdf309",
   "metadata": {},
   "source": [
    "先创建两个数列"
   ]
  },
  {
   "cell_type": "code",
   "execution_count": 1,
   "id": "051a6578",
   "metadata": {},
   "outputs": [
    {
     "name": "stdout",
     "output_type": "stream",
     "text": [
      "[10 20 30 40]\n",
      "[0 1 2 3]\n"
     ]
    }
   ],
   "source": [
    "import numpy as np\n",
    "a = np.array([10,20,30,40])\n",
    "b = np.arange(4)\n",
    "print(a)\n",
    "print(b)"
   ]
  },
  {
   "cell_type": "markdown",
   "id": "cafd2781",
   "metadata": {},
   "source": [
    "## array的四则运算"
   ]
  },
  {
   "cell_type": "markdown",
   "id": "f1198507",
   "metadata": {},
   "source": [
    "进行四则运算时维度需要相同"
   ]
  },
  {
   "cell_type": "code",
   "execution_count": 2,
   "id": "bfeeff9c",
   "metadata": {},
   "outputs": [
    {
     "name": "stdout",
     "output_type": "stream",
     "text": [
      "[10 21 32 43]\n",
      "[10 19 28 37]\n",
      "[  0  20  60 120]\n"
     ]
    }
   ],
   "source": [
    "print(a+b)\n",
    "print(a-b)\n",
    "print(a*b)"
   ]
  },
  {
   "cell_type": "markdown",
   "id": "b922a397",
   "metadata": {},
   "source": [
    "## array的n次方"
   ]
  },
  {
   "cell_type": "code",
   "execution_count": 3,
   "id": "f7a67de9",
   "metadata": {},
   "outputs": [
    {
     "name": "stdout",
     "output_type": "stream",
     "text": [
      "[0 1 4 9]\n"
     ]
    }
   ],
   "source": [
    "c = b**2\n",
    "print(c)"
   ]
  },
  {
   "cell_type": "markdown",
   "id": "f389e811",
   "metadata": {},
   "source": [
    "## 三角函数运算"
   ]
  },
  {
   "cell_type": "code",
   "execution_count": 4,
   "id": "d14f28e7",
   "metadata": {},
   "outputs": [
    {
     "name": "stdout",
     "output_type": "stream",
     "text": [
      "[-5.44021111  9.12945251 -9.88031624  7.4511316 ]\n"
     ]
    }
   ],
   "source": [
    "c = 10*np.sin(a)\n",
    "print(c)"
   ]
  },
  {
   "cell_type": "code",
   "execution_count": 5,
   "id": "ab980a00",
   "metadata": {},
   "outputs": [
    {
     "name": "stdout",
     "output_type": "stream",
     "text": [
      "[-8.39071529  4.08082062  1.5425145  -6.66938062]\n",
      "[  6.48360827  22.37160944 -64.05331197 -11.17214931]\n"
     ]
    }
   ],
   "source": [
    "c = 10*np.cos(a)\n",
    "print(c)\n",
    "c = 10*np.tan(a)\n",
    "print(c)"
   ]
  },
  {
   "cell_type": "markdown",
   "id": "cd878b65",
   "metadata": {},
   "source": [
    "## 判断array中哪些值小于某个数"
   ]
  },
  {
   "cell_type": "code",
   "execution_count": 6,
   "id": "d13a7432",
   "metadata": {},
   "outputs": [
    {
     "name": "stdout",
     "output_type": "stream",
     "text": [
      "[0 1 2 3]\n",
      "[ True  True  True False]\n"
     ]
    }
   ],
   "source": [
    "print(b)\n",
    "print(b<3)"
   ]
  },
  {
   "cell_type": "markdown",
   "id": "177702c5",
   "metadata": {},
   "source": [
    "## 矩阵的运算"
   ]
  },
  {
   "cell_type": "code",
   "execution_count": 7,
   "id": "9fa678ab",
   "metadata": {},
   "outputs": [
    {
     "name": "stdout",
     "output_type": "stream",
     "text": [
      "[[1 1]\n",
      " [0 1]]\n",
      "[[0 1]\n",
      " [2 3]]\n"
     ]
    }
   ],
   "source": [
    "a = np.array([[1,1],\n",
    "              [0,1]])\n",
    "b = np.arange(4).reshape((2,2))\n",
    "print(a)\n",
    "print(b)"
   ]
  },
  {
   "cell_type": "markdown",
   "id": "2ad751d0",
   "metadata": {},
   "source": [
    "## 将两个矩阵中的值逐个相乘"
   ]
  },
  {
   "cell_type": "code",
   "execution_count": 8,
   "id": "79ca163f",
   "metadata": {},
   "outputs": [
    {
     "name": "stdout",
     "output_type": "stream",
     "text": [
      "[[0 1]\n",
      " [0 3]]\n"
     ]
    }
   ],
   "source": [
    "c = a*b\n",
    "print(a*b)"
   ]
  },
  {
   "cell_type": "markdown",
   "id": "688e8b8a",
   "metadata": {},
   "source": [
    "## 矩阵乘法"
   ]
  },
  {
   "cell_type": "code",
   "execution_count": 9,
   "id": "ca041fe1",
   "metadata": {},
   "outputs": [
    {
     "name": "stdout",
     "output_type": "stream",
     "text": [
      "[[2 4]\n",
      " [2 3]]\n"
     ]
    }
   ],
   "source": [
    "c_dot = np.dot(a,b)\n",
    "print(c_dot)"
   ]
  },
  {
   "cell_type": "code",
   "execution_count": 10,
   "id": "d2fe0e5a",
   "metadata": {},
   "outputs": [
    {
     "name": "stdout",
     "output_type": "stream",
     "text": [
      "[[2 4]\n",
      " [2 3]]\n"
     ]
    }
   ],
   "source": [
    "c_dot2 = a.dot(b)\n",
    "print(c_dot2)"
   ]
  },
  {
   "cell_type": "markdown",
   "id": "f8180611",
   "metadata": {},
   "source": [
    "## 生成随机矩阵"
   ]
  },
  {
   "cell_type": "markdown",
   "id": "e4de63b2",
   "metadata": {},
   "source": [
    "生成0-1的数字，参数是array的shape"
   ]
  },
  {
   "cell_type": "code",
   "execution_count": 11,
   "id": "23222b22",
   "metadata": {},
   "outputs": [
    {
     "name": "stdout",
     "output_type": "stream",
     "text": [
      "[[0.77096084 0.87546529 0.97517637 0.44950762]\n",
      " [0.37530869 0.98410168 0.41939705 0.10393089]]\n"
     ]
    }
   ],
   "source": [
    "a = np.random.random((2,4))\n",
    "print(a)"
   ]
  },
  {
   "cell_type": "markdown",
   "id": "08efe898",
   "metadata": {},
   "source": [
    "## 求矩阵所有元素的和"
   ]
  },
  {
   "cell_type": "code",
   "execution_count": 12,
   "id": "6ca07746",
   "metadata": {},
   "outputs": [
    {
     "name": "stdout",
     "output_type": "stream",
     "text": [
      "4.953848422903308\n"
     ]
    }
   ],
   "source": [
    "print(np.sum(a))"
   ]
  },
  {
   "cell_type": "markdown",
   "id": "01b32fb5",
   "metadata": {},
   "source": [
    "## 求矩阵所有元素的最大最小值"
   ]
  },
  {
   "cell_type": "code",
   "execution_count": 13,
   "id": "eec21642",
   "metadata": {},
   "outputs": [
    {
     "name": "stdout",
     "output_type": "stream",
     "text": [
      "0.9841016788837725\n",
      "0.10393089423181934\n"
     ]
    }
   ],
   "source": [
    "print(np.max(a))\n",
    "print(np.min(a))"
   ]
  },
  {
   "cell_type": "markdown",
   "id": "7a4557a6",
   "metadata": {},
   "source": [
    "## 对矩阵的每一行求和"
   ]
  },
  {
   "cell_type": "markdown",
   "id": "bc83fe37",
   "metadata": {},
   "source": [
    "axis=0表示按列进行运算，axis=1表示按行进行运算"
   ]
  },
  {
   "cell_type": "code",
   "execution_count": 14,
   "id": "c4d144ca",
   "metadata": {},
   "outputs": [
    {
     "name": "stdout",
     "output_type": "stream",
     "text": [
      "[3.07111012 1.88273831]\n"
     ]
    }
   ],
   "source": [
    "print(np.sum(a,axis=1))"
   ]
  },
  {
   "cell_type": "markdown",
   "id": "78fb73dc",
   "metadata": {},
   "source": [
    "## 对矩阵的每一列求和"
   ]
  },
  {
   "cell_type": "code",
   "execution_count": 15,
   "id": "c6bb7c29",
   "metadata": {},
   "outputs": [
    {
     "name": "stdout",
     "output_type": "stream",
     "text": [
      "[1.14626953 1.85956697 1.39457341 0.55343852]\n"
     ]
    }
   ],
   "source": [
    "print(np.sum(a,axis=0))"
   ]
  },
  {
   "cell_type": "markdown",
   "id": "b2163304",
   "metadata": {},
   "source": [
    "## 求矩阵每一行的最大最小值"
   ]
  },
  {
   "cell_type": "code",
   "execution_count": 16,
   "id": "1c400871",
   "metadata": {},
   "outputs": [
    {
     "name": "stdout",
     "output_type": "stream",
     "text": [
      "[0.44950762 0.10393089]\n",
      "[0.97517637 0.98410168]\n"
     ]
    }
   ],
   "source": [
    "print(np.min(a,axis=1))\n",
    "print(np.max(a,axis=1))"
   ]
  },
  {
   "cell_type": "markdown",
   "id": "00962277",
   "metadata": {},
   "source": [
    "## 求矩阵每一列的最大最小值"
   ]
  },
  {
   "cell_type": "code",
   "execution_count": 17,
   "id": "663785ce",
   "metadata": {},
   "outputs": [
    {
     "name": "stdout",
     "output_type": "stream",
     "text": [
      "[0.37530869 0.87546529 0.41939705 0.10393089]\n",
      "[0.77096084 0.98410168 0.97517637 0.44950762]\n"
     ]
    }
   ],
   "source": [
    "print(np.min(a,axis=0))\n",
    "print(np.max(a,axis=0))"
   ]
  }
 ],
 "metadata": {
  "kernelspec": {
   "display_name": "Python 3 (ipykernel)",
   "language": "python",
   "name": "python3"
  },
  "language_info": {
   "codemirror_mode": {
    "name": "ipython",
    "version": 3
   },
   "file_extension": ".py",
   "mimetype": "text/x-python",
   "name": "python",
   "nbconvert_exporter": "python",
   "pygments_lexer": "ipython3",
   "version": "3.9.12"
  }
 },
 "nbformat": 4,
 "nbformat_minor": 5
}
