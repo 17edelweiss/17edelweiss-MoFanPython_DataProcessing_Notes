{
 "cells": [
  {
   "cell_type": "markdown",
   "id": "f89b73e9",
   "metadata": {},
   "source": [
    "# matplotlib bar柱状图"
   ]
  },
  {
   "cell_type": "code",
   "execution_count": 1,
   "id": "00549773",
   "metadata": {},
   "outputs": [
    {
     "name": "stdout",
     "output_type": "stream",
     "text": [
      "Using matplotlib backend: <object object at 0x000002776A8B9880>\n"
     ]
    }
   ],
   "source": [
    "import matplotlib.pyplot as plt\n",
    "import numpy as np\n",
    "%matplotlib"
   ]
  },
  {
   "cell_type": "code",
   "execution_count": 2,
   "id": "7ec7ed66",
   "metadata": {},
   "outputs": [],
   "source": [
    "n = 12\n",
    "X = np.arange(n)\n",
    "Y1 = (1-X/float(n))*np.random.uniform(0.5,1.0,n)#从一个均匀分布[low,high)中随机采样\n",
    "Y2 = (1-X/float(n))*np.random.uniform(0.5,1.0,n)\n",
    "\n",
    "plt.bar(X,+Y1,facecolor='#9999ff',edgecolor='white') #绘制柱状图，facecolor表示背景颜色，edgecolor表示边框颜色\n",
    "plt.bar(X,-Y2,facecolor='#ff9999',edgecolor='white')\n",
    "\n",
    "for x,y in zip(X,Y1):\n",
    "    # ha: horizontal alignment\n",
    "    plt.text(x,y+0.05,'%.2f' % y,ha='center',va='bottom')\n",
    "\n",
    "for x,y in zip(X,Y2):\n",
    "    # ha: horizontal alignment\n",
    "    plt.text(x,-y-0.05,'-%.2f' % y,ha='center',va='top')   \n",
    "plt.xlim(-5,n)\n",
    "plt.xticks(())\n",
    "plt.ylim(-1.25,1.25)\n",
    "plt.yticks(())\n",
    "\n",
    "plt.show(block=True)"
   ]
  }
 ],
 "metadata": {
  "kernelspec": {
   "display_name": "Python 3 (ipykernel)",
   "language": "python",
   "name": "python3"
  },
  "language_info": {
   "codemirror_mode": {
    "name": "ipython",
    "version": 3
   },
   "file_extension": ".py",
   "mimetype": "text/x-python",
   "name": "python",
   "nbconvert_exporter": "python",
   "pygments_lexer": "ipython3",
   "version": "3.9.12"
  }
 },
 "nbformat": 4,
 "nbformat_minor": 5
}
