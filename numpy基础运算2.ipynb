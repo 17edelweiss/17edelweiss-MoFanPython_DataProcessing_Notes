{
 "cells": [
  {
   "cell_type": "markdown",
   "id": "2538f4d5",
   "metadata": {},
   "source": [
    "# numpy基础运算2"
   ]
  },
  {
   "cell_type": "code",
   "execution_count": 1,
   "id": "b2057f25",
   "metadata": {},
   "outputs": [],
   "source": [
    "import numpy as np"
   ]
  },
  {
   "cell_type": "markdown",
   "id": "acaad408",
   "metadata": {},
   "source": [
    "先定义一个3行4列的矩阵"
   ]
  },
  {
   "cell_type": "code",
   "execution_count": 2,
   "id": "c68a3afc",
   "metadata": {},
   "outputs": [
    {
     "name": "stdout",
     "output_type": "stream",
     "text": [
      "[[ 2  3  4  5]\n",
      " [ 6  7  8  9]\n",
      " [10 11 12 13]]\n"
     ]
    }
   ],
   "source": [
    "A = np.arange(2,14).reshape((3,4))\n",
    "print(A)"
   ]
  },
  {
   "cell_type": "markdown",
   "id": "aada94cc",
   "metadata": {},
   "source": [
    "## 矩阵中最大，最小值的索引"
   ]
  },
  {
   "cell_type": "markdown",
   "id": "8137646d",
   "metadata": {},
   "source": [
    "当argmin(),argmax()无axis参数时，会将输入数组展平为一个一维数组，返回其中的最小值"
   ]
  },
  {
   "cell_type": "code",
   "execution_count": 3,
   "id": "45cb5499",
   "metadata": {},
   "outputs": [
    {
     "name": "stdout",
     "output_type": "stream",
     "text": [
      "0\n",
      "11\n"
     ]
    }
   ],
   "source": [
    "print(np.argmin(A))\n",
    "print(np.argmax(A))"
   ]
  },
  {
   "cell_type": "markdown",
   "id": "105593e5",
   "metadata": {},
   "source": [
    "## 求矩阵中所有元素的平均值"
   ]
  },
  {
   "cell_type": "code",
   "execution_count": 4,
   "id": "63589a39",
   "metadata": {},
   "outputs": [
    {
     "name": "stdout",
     "output_type": "stream",
     "text": [
      "7.5\n",
      "7.5\n"
     ]
    }
   ],
   "source": [
    "print(np.mean(A))\n",
    "print(A.mean())"
   ]
  },
  {
   "cell_type": "markdown",
   "id": "c5296a45",
   "metadata": {},
   "source": [
    "## 求矩阵中所有元素的中位数"
   ]
  },
  {
   "cell_type": "code",
   "execution_count": 5,
   "id": "d4752ee1",
   "metadata": {},
   "outputs": [
    {
     "name": "stdout",
     "output_type": "stream",
     "text": [
      "7.5\n"
     ]
    }
   ],
   "source": [
    "print(np.median(A))"
   ]
  },
  {
   "cell_type": "markdown",
   "id": "53077ab4",
   "metadata": {},
   "source": [
    "## 矩阵累加(求前缀和)"
   ]
  },
  {
   "cell_type": "code",
   "execution_count": 6,
   "id": "e9fc23f7",
   "metadata": {},
   "outputs": [
    {
     "name": "stdout",
     "output_type": "stream",
     "text": [
      "[[ 2  3  4  5]\n",
      " [ 6  7  8  9]\n",
      " [10 11 12 13]]\n",
      "[ 2  5  9 14 20 27 35 44 54 65 77 90]\n"
     ]
    }
   ],
   "source": [
    "print(A)\n",
    "print(np.cumsum(A))"
   ]
  },
  {
   "cell_type": "markdown",
   "id": "cd2cfd8b",
   "metadata": {},
   "source": [
    "## 一阶差分"
   ]
  },
  {
   "cell_type": "markdown",
   "id": "4247ba20",
   "metadata": {},
   "source": [
    "相邻元素之差"
   ]
  },
  {
   "cell_type": "code",
   "execution_count": 7,
   "id": "3e05744b",
   "metadata": {},
   "outputs": [
    {
     "name": "stdout",
     "output_type": "stream",
     "text": [
      "[[1 1 1]\n",
      " [1 1 1]\n",
      " [1 1 1]]\n"
     ]
    }
   ],
   "source": [
    "print(np.diff(A))"
   ]
  },
  {
   "cell_type": "markdown",
   "id": "09c3d8d2",
   "metadata": {},
   "source": [
    "## 求数组中非0元素的索引"
   ]
  },
  {
   "cell_type": "markdown",
   "id": "e08a4220",
   "metadata": {},
   "source": [
    "nonzero函数返回数组array中非0元素的位置(数组索引)"
   ]
  },
  {
   "cell_type": "code",
   "execution_count": 8,
   "id": "3c47ac4e",
   "metadata": {},
   "outputs": [
    {
     "name": "stdout",
     "output_type": "stream",
     "text": [
      "(array([0, 0, 0, 0, 1, 1, 1, 1, 2, 2, 2, 2], dtype=int64), array([0, 1, 2, 3, 0, 1, 2, 3, 0, 1, 2, 3], dtype=int64))\n"
     ]
    }
   ],
   "source": [
    "print(np.nonzero(A))"
   ]
  },
  {
   "cell_type": "markdown",
   "id": "1fd03028",
   "metadata": {},
   "source": [
    "由于A是二维数组，故函数返回两个数组，第一个数组代表矩阵中非0元素的行下标，第二个数组代表矩阵中非0元素的列下标"
   ]
  },
  {
   "cell_type": "markdown",
   "id": "6cd41eda",
   "metadata": {},
   "source": [
    "## 矩阵排序"
   ]
  },
  {
   "cell_type": "markdown",
   "id": "a220314f",
   "metadata": {},
   "source": [
    "numpy.sort()默认每行**从小到大排序**"
   ]
  },
  {
   "cell_type": "code",
   "execution_count": 9,
   "id": "5b32f98f",
   "metadata": {},
   "outputs": [
    {
     "name": "stdout",
     "output_type": "stream",
     "text": [
      "[[14 13 12 11]\n",
      " [10  9  8  7]\n",
      " [ 6  5  4  3]]\n",
      "[[11 12 13 14]\n",
      " [ 7  8  9 10]\n",
      " [ 3  4  5  6]]\n"
     ]
    }
   ],
   "source": [
    "A = np.arange(14,2,-1).reshape((3,4))\n",
    "print(A)\n",
    "print(np.sort(A))"
   ]
  },
  {
   "cell_type": "markdown",
   "id": "8ce9355e",
   "metadata": {},
   "source": [
    "## 矩阵转置"
   ]
  },
  {
   "cell_type": "markdown",
   "id": "6a2328eb",
   "metadata": {},
   "source": [
    "numpy.transpose(a, axes=None)用来调整多维数组的不同轴，默认情况下是对轴进行反转，因此对于二维矩阵，默认情况下是进行转置。同时也可以使用axes参数，对某几个轴进行调整"
   ]
  },
  {
   "cell_type": "code",
   "execution_count": 10,
   "id": "5b9ccf99",
   "metadata": {},
   "outputs": [
    {
     "name": "stdout",
     "output_type": "stream",
     "text": [
      "[[14 10  6]\n",
      " [13  9  5]\n",
      " [12  8  4]\n",
      " [11  7  3]]\n",
      "[[14 10  6]\n",
      " [13  9  5]\n",
      " [12  8  4]\n",
      " [11  7  3]]\n"
     ]
    }
   ],
   "source": [
    "print(np.transpose(A))\n",
    "print(A.T)"
   ]
  },
  {
   "cell_type": "markdown",
   "id": "4f8f0da3",
   "metadata": {},
   "source": [
    "矩阵的乘法运算中可能会经常用到转置"
   ]
  },
  {
   "cell_type": "code",
   "execution_count": 11,
   "id": "cdca3704",
   "metadata": {},
   "outputs": [
    {
     "name": "stdout",
     "output_type": "stream",
     "text": [
      "[[332 302 272 242]\n",
      " [302 275 248 221]\n",
      " [272 248 224 200]\n",
      " [242 221 200 179]]\n"
     ]
    }
   ],
   "source": [
    "print((A.T).dot(A))"
   ]
  },
  {
   "cell_type": "markdown",
   "id": "869d81ff",
   "metadata": {},
   "source": [
    "## numpy.clip(a,a_min,a_max,out=None)"
   ]
  },
  {
   "cell_type": "code",
   "execution_count": 12,
   "id": "763c90da",
   "metadata": {},
   "outputs": [
    {
     "name": "stdout",
     "output_type": "stream",
     "text": [
      "[[14 13 12 11]\n",
      " [10  9  8  7]\n",
      " [ 6  5  4  3]]\n",
      "[[9 9 9 9]\n",
      " [9 9 8 7]\n",
      " [6 5 5 5]]\n"
     ]
    }
   ],
   "source": [
    "print(A)\n",
    "print(np.clip(A,5,9))"
   ]
  },
  {
   "cell_type": "markdown",
   "id": "ce629eb5",
   "metadata": {},
   "source": [
    "clip这个函数将数组中的元素限制在a_min和a_max之间，大于a_max的就使它等于a_max，小于a_min的就使它等于a_min，其余元素的值不变"
   ]
  }
 ],
 "metadata": {
  "kernelspec": {
   "display_name": "Python 3 (ipykernel)",
   "language": "python",
   "name": "python3"
  },
  "language_info": {
   "codemirror_mode": {
    "name": "ipython",
    "version": 3
   },
   "file_extension": ".py",
   "mimetype": "text/x-python",
   "name": "python",
   "nbconvert_exporter": "python",
   "pygments_lexer": "ipython3",
   "version": "3.9.12"
  }
 },
 "nbformat": 4,
 "nbformat_minor": 5
}
