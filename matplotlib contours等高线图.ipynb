{
 "cells": [
  {
   "cell_type": "markdown",
   "id": "13b67e55",
   "metadata": {},
   "source": [
    "# matplotlib contours等高线图"
   ]
  },
  {
   "cell_type": "code",
   "execution_count": 1,
   "id": "069d727d",
   "metadata": {},
   "outputs": [
    {
     "name": "stdout",
     "output_type": "stream",
     "text": [
      "Using matplotlib backend: <object object at 0x0000020EDD729880>\n"
     ]
    }
   ],
   "source": [
    "import matplotlib.pyplot as plt\n",
    "import numpy as np\n",
    "%matplotlib"
   ]
  },
  {
   "cell_type": "code",
   "execution_count": 2,
   "id": "31681bb9",
   "metadata": {},
   "outputs": [],
   "source": [
    "def f(x,y):\n",
    "    # the height function(根据x和y计算高度)\n",
    "    return (1 - x / 2 + x**5 + y**3) * np.exp(-x**2-y**2)\n",
    "\n",
    "n= 256\n",
    "x = np.linspace(-3,3,n)\n",
    "y = np.linspace(-3,3,n)\n",
    "\n",
    "X,Y = np.meshgrid(x,y) #将x和y绑定成网格输入值\n",
    "\n",
    "# 使用plt.contourf 填充等高线图\n",
    "plt.contourf(X,Y,f(X,Y),8,alpha=0.75,cmap=plt.cm.hot) #将颜色填充进去\n",
    "# 使用plt.contour 添加等高线\n",
    "C = plt.contour(X,Y,f(X,Y),8,colors='black') #数字8代表将图片分成几半，8表示分成10部分\n",
    "\n",
    "# 添加数字描述\n",
    "plt.clabel(C,inline=True,fontsize=10)\n",
    "\n",
    "#去掉x,y的ticks\n",
    "plt.xticks(()) \n",
    "plt.yticks(())\n",
    "plt.show(block=True)"
   ]
  }
 ],
 "metadata": {
  "kernelspec": {
   "display_name": "Python 3 (ipykernel)",
   "language": "python",
   "name": "python3"
  },
  "language_info": {
   "codemirror_mode": {
    "name": "ipython",
    "version": 3
   },
   "file_extension": ".py",
   "mimetype": "text/x-python",
   "name": "python",
   "nbconvert_exporter": "python",
   "pygments_lexer": "ipython3",
   "version": "3.9.12"
  }
 },
 "nbformat": 4,
 "nbformat_minor": 5
}
