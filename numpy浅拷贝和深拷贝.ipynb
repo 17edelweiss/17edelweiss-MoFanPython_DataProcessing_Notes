{
 "cells": [
  {
   "cell_type": "markdown",
   "id": "0b6301ec",
   "metadata": {},
   "source": [
    "# numpy copy & deep copy"
   ]
  },
  {
   "cell_type": "code",
   "execution_count": 1,
   "id": "8448c588",
   "metadata": {},
   "outputs": [],
   "source": [
    "import numpy as np"
   ]
  },
  {
   "cell_type": "markdown",
   "id": "14620d0e",
   "metadata": {},
   "source": [
    "创建一个一维数组"
   ]
  },
  {
   "cell_type": "code",
   "execution_count": 2,
   "id": "7e7ddd0e",
   "metadata": {},
   "outputs": [
    {
     "name": "stdout",
     "output_type": "stream",
     "text": [
      "[0 1 2 3]\n"
     ]
    }
   ],
   "source": [
    "a = np.arange(4)\n",
    "print(a)"
   ]
  },
  {
   "cell_type": "code",
   "execution_count": 3,
   "id": "a77ec810",
   "metadata": {},
   "outputs": [
    {
     "name": "stdout",
     "output_type": "stream",
     "text": [
      "[11  1  2  3]\n"
     ]
    }
   ],
   "source": [
    "b = a\n",
    "c = a\n",
    "d = b\n",
    "a[0] = 11 # 修改a中的第一个元素，默认是整型，不能改成浮点数\n",
    "print(a)"
   ]
  },
  {
   "cell_type": "code",
   "execution_count": 4,
   "id": "b8254dfb",
   "metadata": {},
   "outputs": [
    {
     "name": "stdout",
     "output_type": "stream",
     "text": [
      "[11  1  2  3] [11  1  2  3] [11  1  2  3]\n"
     ]
    }
   ],
   "source": [
    "print(b,c,d)"
   ]
  },
  {
   "cell_type": "markdown",
   "id": "6a9f6f82",
   "metadata": {},
   "source": [
    "发现b,c,d也变了，因为b,c,d其实就是a"
   ]
  },
  {
   "cell_type": "code",
   "execution_count": 5,
   "id": "94f988ca",
   "metadata": {},
   "outputs": [
    {
     "name": "stdout",
     "output_type": "stream",
     "text": [
      "True True True\n"
     ]
    }
   ],
   "source": [
    "print(b is a,c is a,d is a) #用is判断是否是同一个对象"
   ]
  },
  {
   "cell_type": "markdown",
   "id": "7fe09099",
   "metadata": {},
   "source": [
    "通过上面的输出结果可知在numpy中把array赋值给另一个变量，其实是同一个对象，这种就是**浅拷贝**，改变一个变量的值会影响到其他变量的值。进行赋值操作时，Python进行的是引用传递，两个变量指向的是同一块内存区域"
   ]
  },
  {
   "cell_type": "code",
   "execution_count": 6,
   "id": "9594ef89",
   "metadata": {},
   "outputs": [
    {
     "name": "stdout",
     "output_type": "stream",
     "text": [
      "[11 22 33  3] [11 22 33  3] [11 22 33  3] [11 22 33  3]\n"
     ]
    }
   ],
   "source": [
    "d[1:3] = [22,33]\n",
    "print(d,a,b,c)"
   ]
  },
  {
   "cell_type": "markdown",
   "id": "f07edc2b",
   "metadata": {},
   "source": [
    "## 深拷贝"
   ]
  },
  {
   "cell_type": "markdown",
   "id": "ba72b0b3",
   "metadata": {},
   "source": [
    "将被复制对象完全再复制一遍作为独立的新个体单独存在。在改变原有被复制对象时，不会对已经复制出来的新对象产生影响。copy方法可以生成一个完整的新的ndarray对象，这个ndarray对象和原始的ndarray没有任何关系"
   ]
  },
  {
   "cell_type": "code",
   "execution_count": 7,
   "id": "3eddeb6d",
   "metadata": {},
   "outputs": [
    {
     "name": "stdout",
     "output_type": "stream",
     "text": [
      "[11 22 33  3] [11 22 33  3]\n",
      "[11 22 33 44] [11 22 33  3]\n"
     ]
    }
   ],
   "source": [
    "b = a.copy() #此时b不再关联于a，只获取a的值，deep copy\n",
    "print(a,b)\n",
    "a[3] = 44\n",
    "print(a,b)"
   ]
  }
 ],
 "metadata": {
  "kernelspec": {
   "display_name": "Python 3 (ipykernel)",
   "language": "python",
   "name": "python3"
  },
  "language_info": {
   "codemirror_mode": {
    "name": "ipython",
    "version": 3
   },
   "file_extension": ".py",
   "mimetype": "text/x-python",
   "name": "python",
   "nbconvert_exporter": "python",
   "pygments_lexer": "ipython3",
   "version": "3.9.12"
  }
 },
 "nbformat": 4,
 "nbformat_minor": 5
}
