{
 "cells": [
  {
   "cell_type": "markdown",
   "id": "9172f020",
   "metadata": {},
   "source": [
    "# numpy的array合并"
   ]
  },
  {
   "cell_type": "markdown",
   "id": "70954c4f",
   "metadata": {},
   "source": [
    "先创建两个数列"
   ]
  },
  {
   "cell_type": "code",
   "execution_count": 1,
   "id": "98c90b0c",
   "metadata": {},
   "outputs": [
    {
     "name": "stdout",
     "output_type": "stream",
     "text": [
      "[1 1 1] (3,)\n",
      "[2 2 2] (3,)\n"
     ]
    }
   ],
   "source": [
    "import numpy as np\n",
    "A = np.array([1,1,1])\n",
    "B = np.array([2,2,2])\n",
    "print(A,A.shape)\n",
    "print(B,B.shape)"
   ]
  },
  {
   "cell_type": "markdown",
   "id": "725af2c4",
   "metadata": {},
   "source": [
    "## 上下合并(vertical stack)"
   ]
  },
  {
   "cell_type": "markdown",
   "id": "cc923e47",
   "metadata": {},
   "source": [
    "numpy.vstack(tup)"
   ]
  },
  {
   "cell_type": "code",
   "execution_count": 2,
   "id": "a596c217",
   "metadata": {},
   "outputs": [
    {
     "name": "stdout",
     "output_type": "stream",
     "text": [
      "[[1 1 1]\n",
      " [2 2 2]]\n"
     ]
    }
   ],
   "source": [
    "C = np.vstack((A,B))\n",
    "print(C)"
   ]
  },
  {
   "cell_type": "markdown",
   "id": "42d69245",
   "metadata": {},
   "source": [
    "A只是一个序列，只有3个数，没有第2个shape。而C是A,B两个序列上下合并，变为2行3列的矩阵"
   ]
  },
  {
   "cell_type": "code",
   "execution_count": 3,
   "id": "e60c097e",
   "metadata": {},
   "outputs": [
    {
     "name": "stdout",
     "output_type": "stream",
     "text": [
      "(3,) (2, 3)\n"
     ]
    }
   ],
   "source": [
    "print(A.shape,C.shape)"
   ]
  },
  {
   "cell_type": "markdown",
   "id": "f851af22",
   "metadata": {},
   "source": [
    "## 水平合并(horizontal stack)"
   ]
  },
  {
   "cell_type": "markdown",
   "id": "f31f7f9a",
   "metadata": {},
   "source": [
    "numpy.hstack(tup)"
   ]
  },
  {
   "cell_type": "code",
   "execution_count": 4,
   "id": "bcaed1d7",
   "metadata": {},
   "outputs": [
    {
     "name": "stdout",
     "output_type": "stream",
     "text": [
      "[1 1 1 2 2 2]\n",
      "(3,) (6,)\n"
     ]
    }
   ],
   "source": [
    "D = np.hstack((A,B))\n",
    "print(D)\n",
    "print(A.shape,D.shape)"
   ]
  },
  {
   "cell_type": "markdown",
   "id": "acbf3605",
   "metadata": {},
   "source": [
    "因为A和B都是一个序列，所以进行左右合并后是一个有6个元素的序列"
   ]
  },
  {
   "cell_type": "markdown",
   "id": "d25daf74",
   "metadata": {},
   "source": [
    "## 改变数列维度"
   ]
  },
  {
   "cell_type": "markdown",
   "id": "1131c525",
   "metadata": {},
   "source": [
    "下面的方法无法将横向数列变为竖向数列，因为数列是一维，转置不能提升维度"
   ]
  },
  {
   "cell_type": "code",
   "execution_count": 5,
   "id": "de86d046",
   "metadata": {},
   "outputs": [
    {
     "name": "stdout",
     "output_type": "stream",
     "text": [
      "[1 1 1]\n",
      "(3,)\n"
     ]
    }
   ],
   "source": [
    "print(A.T)\n",
    "print(A.T.shape)"
   ]
  },
  {
   "cell_type": "markdown",
   "id": "fa4d8809",
   "metadata": {},
   "source": [
    "newaxis是numpy中的一个函数，顾名思义，就是插入新维度的意思，插入的这一维的长度为1，比如将一维数组变成二维数组，二维变成三维等"
   ]
  },
  {
   "cell_type": "code",
   "execution_count": 6,
   "id": "ded52cb5",
   "metadata": {},
   "outputs": [
    {
     "name": "stdout",
     "output_type": "stream",
     "text": [
      "[[1 1 1]]\n",
      "(1, 3)\n",
      "[[1]\n",
      " [1]\n",
      " [1]]\n",
      "(3, 1)\n"
     ]
    }
   ],
   "source": [
    "C = A[np.newaxis,:] #加了一个维度，变为行向量\n",
    "print(C)\n",
    "print(C.shape)\n",
    "C = A[:,np.newaxis] #加了一个维度，变为列向量\n",
    "print(C)\n",
    "print(C.shape)"
   ]
  },
  {
   "cell_type": "code",
   "execution_count": 7,
   "id": "75d79d96",
   "metadata": {},
   "outputs": [
    {
     "name": "stdout",
     "output_type": "stream",
     "text": [
      "[[1]\n",
      " [1]\n",
      " [1]]\n",
      "[[2]\n",
      " [2]\n",
      " [2]]\n",
      "[[1 2]\n",
      " [1 2]\n",
      " [1 2]]\n",
      "(3, 1) (3, 2)\n"
     ]
    }
   ],
   "source": [
    "A = np.array([1,1,1])[:,np.newaxis]\n",
    "B = np.array([2,2,2])[:,np.newaxis]\n",
    "D = np.hstack((A,B))\n",
    "print(A)\n",
    "print(B)\n",
    "print(D)\n",
    "print(A.shape,D.shape)"
   ]
  },
  {
   "cell_type": "markdown",
   "id": "c7327688",
   "metadata": {},
   "source": [
    "## 多个array的合并"
   ]
  },
  {
   "cell_type": "code",
   "execution_count": 8,
   "id": "92aeb99c",
   "metadata": {},
   "outputs": [
    {
     "name": "stdout",
     "output_type": "stream",
     "text": [
      "[[1 1 2]\n",
      " [1 1 2]\n",
      " [1 1 2]]\n"
     ]
    }
   ],
   "source": [
    "print(np.hstack((A,A,B)))"
   ]
  },
  {
   "cell_type": "markdown",
   "id": "6edf988c",
   "metadata": {},
   "source": [
    "用axis来控制合并的方式，axis=0等同于vertical stack，axis=1等同于horizontal stack，默认axis=0"
   ]
  },
  {
   "cell_type": "code",
   "execution_count": 9,
   "id": "caa8d019",
   "metadata": {},
   "outputs": [
    {
     "name": "stdout",
     "output_type": "stream",
     "text": [
      "[[1]\n",
      " [1]\n",
      " [1]\n",
      " [2]\n",
      " [2]\n",
      " [2]\n",
      " [2]\n",
      " [2]\n",
      " [2]\n",
      " [1]\n",
      " [1]\n",
      " [1]]\n"
     ]
    }
   ],
   "source": [
    "C = np.concatenate((A,B,B,A)) \n",
    "print(C)"
   ]
  }
 ],
 "metadata": {
  "kernelspec": {
   "display_name": "Python 3 (ipykernel)",
   "language": "python",
   "name": "python3"
  },
  "language_info": {
   "codemirror_mode": {
    "name": "ipython",
    "version": 3
   },
   "file_extension": ".py",
   "mimetype": "text/x-python",
   "name": "python",
   "nbconvert_exporter": "python",
   "pygments_lexer": "ipython3",
   "version": "3.9.12"
  }
 },
 "nbformat": 4,
 "nbformat_minor": 5
}
