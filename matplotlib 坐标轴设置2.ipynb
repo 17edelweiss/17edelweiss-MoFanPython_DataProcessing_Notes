{
 "cells": [
  {
   "cell_type": "markdown",
   "id": "ac41b118",
   "metadata": {},
   "source": [
    "# matplotlib 坐标轴设置2"
   ]
  },
  {
   "cell_type": "code",
   "execution_count": 1,
   "id": "666a16fc",
   "metadata": {},
   "outputs": [
    {
     "name": "stdout",
     "output_type": "stream",
     "text": [
      "Using matplotlib backend: <object object at 0x000002366F089880>\n"
     ]
    }
   ],
   "source": [
    "import matplotlib.pyplot as plt\n",
    "import numpy as np\n",
    "%matplotlib"
   ]
  },
  {
   "cell_type": "markdown",
   "id": "10f55f51",
   "metadata": {},
   "source": [
    "## 修改坐标轴的位置"
   ]
  },
  {
   "cell_type": "code",
   "execution_count": 2,
   "id": "c0c91971",
   "metadata": {},
   "outputs": [
    {
     "name": "stdout",
     "output_type": "stream",
     "text": [
      "[-1.   -0.25  0.5   1.25  2.  ]\n"
     ]
    }
   ],
   "source": [
    "x = np.linspace(-3,3,50)\n",
    "y1 = 2*x+1\n",
    "y2 = x**2\n",
    "\n",
    "plt.figure()\n",
    "plt.plot(x,y2)\n",
    "plt.plot(x,y1,color='red',linewidth=1.0,linestyle='--')\n",
    "plt.xlim((-1,2)) #设置x轴的取值范围\n",
    "plt.ylim((-2,3)) #设置y轴的取值范围\n",
    "plt.xlabel(\"I am x\") #描述x轴\n",
    "plt.ylabel('I am y') #描述y轴\n",
    "\n",
    "new_ticks = np.linspace(-1,2,5)\n",
    "print(new_ticks)\n",
    "plt.xticks(new_ticks) #修改x轴的刻标\n",
    "plt.yticks([-2,-1.8,-1,1.22,3],\n",
    "           [r'$really\\ bad$',r'$bad$',r'$normal$',r'$good$',r'$really\\ good$']) #修改y轴的刻度标签\n",
    "\n",
    "# gca = 'get current axis'\n",
    "ax = plt.gca()\n",
    "ax.spines['right'].set_color('none') #spines表示图片的四个边框\n",
    "ax.spines['top'].set_color('none')#选择右边和上面的轴设置为none，让它们消失掉\n",
    "\n",
    "#由于还没有默认哪个是x轴，哪个是y轴，因此要进行设置\n",
    "ax.xaxis.set_ticks_position('bottom') #用下面的坐标轴代替x轴\n",
    "ax.yaxis.set_ticks_position('left') #用左边的坐标轴代替y轴\n",
    "ax.spines['bottom'].set_position(('data',0)) #通过描述它的data值来选择，将x轴绑定在y轴=0的位置\n",
    "ax.spines['left'].set_position(('data',0)) #将y轴放在x=0处\n",
    "plt.show(block = True)"
   ]
  }
 ],
 "metadata": {
  "kernelspec": {
   "display_name": "Python 3 (ipykernel)",
   "language": "python",
   "name": "python3"
  },
  "language_info": {
   "codemirror_mode": {
    "name": "ipython",
    "version": 3
   },
   "file_extension": ".py",
   "mimetype": "text/x-python",
   "name": "python",
   "nbconvert_exporter": "python",
   "pygments_lexer": "ipython3",
   "version": "3.9.12"
  }
 },
 "nbformat": 4,
 "nbformat_minor": 5
}
