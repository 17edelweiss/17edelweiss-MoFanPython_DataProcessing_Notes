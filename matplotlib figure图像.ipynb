{
 "cells": [
  {
   "cell_type": "markdown",
   "id": "ef284962",
   "metadata": {},
   "source": [
    "# matplotlib figure图像"
   ]
  },
  {
   "cell_type": "code",
   "execution_count": 1,
   "id": "3c748d74",
   "metadata": {},
   "outputs": [
    {
     "name": "stdout",
     "output_type": "stream",
     "text": [
      "Using matplotlib backend: <object object at 0x000001C52BAF9880>\n"
     ]
    }
   ],
   "source": [
    "import matplotlib.pyplot as plt\n",
    "import numpy as np\n",
    "%matplotlib"
   ]
  },
  {
   "cell_type": "markdown",
   "id": "f8b9ac19",
   "metadata": {},
   "source": [
    "## 生成不同的图像窗口"
   ]
  },
  {
   "cell_type": "code",
   "execution_count": 2,
   "id": "89564f35",
   "metadata": {},
   "outputs": [],
   "source": [
    "x = np.linspace(-3,3,50)\n",
    "y1 = 2*x+1\n",
    "y2 = x**2\n",
    "\n",
    "plt.figure()\n",
    "plt.plot(x,y1)\n",
    "\n",
    "plt.figure(num=3,figsize=(8,5)) #num参数设置figure的序号,figsize设置窗口长宽\n",
    "plt.plot(x,y2)\n",
    "\n",
    "plt.show(block=True)"
   ]
  },
  {
   "cell_type": "markdown",
   "id": "4919abf4",
   "metadata": {},
   "source": [
    "每一张图片先定义**plt.figure()**，则后面的语句均是与这个figure相关的"
   ]
  },
  {
   "cell_type": "markdown",
   "id": "283410d4",
   "metadata": {},
   "source": [
    "## 在一张图中生成多条曲线"
   ]
  },
  {
   "cell_type": "code",
   "execution_count": 3,
   "id": "b73b153f",
   "metadata": {},
   "outputs": [],
   "source": [
    "plt.figure()\n",
    "plt.plot(x,y1)\n",
    "\n",
    "plt.figure(num=3,figsize=(8,5))\n",
    "plt.plot(x,y2)\n",
    "plt.plot(x,y1,color='red',linewidth=3.0,linestyle='--') #linewidth设置宽度,--表示虚线\n",
    "\n",
    "plt.show(block=True)"
   ]
  }
 ],
 "metadata": {
  "kernelspec": {
   "display_name": "Python 3 (ipykernel)",
   "language": "python",
   "name": "python3"
  },
  "language_info": {
   "codemirror_mode": {
    "name": "ipython",
    "version": 3
   },
   "file_extension": ".py",
   "mimetype": "text/x-python",
   "name": "python",
   "nbconvert_exporter": "python",
   "pygments_lexer": "ipython3",
   "version": "3.9.12"
  }
 },
 "nbformat": 4,
 "nbformat_minor": 5
}
