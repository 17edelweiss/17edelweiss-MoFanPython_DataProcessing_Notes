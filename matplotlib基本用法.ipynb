{
 "cells": [
  {
   "cell_type": "markdown",
   "id": "c38578e1",
   "metadata": {},
   "source": [
    "# matplotlib 基本用法"
   ]
  },
  {
   "cell_type": "code",
   "execution_count": 1,
   "id": "31acb691",
   "metadata": {},
   "outputs": [
    {
     "name": "stdout",
     "output_type": "stream",
     "text": [
      "Using matplotlib backend: <object object at 0x0000013CF3689880>\n"
     ]
    }
   ],
   "source": [
    "import matplotlib.pyplot as plt\n",
    "import numpy as np\n",
    "%matplotlib"
   ]
  },
  {
   "cell_type": "markdown",
   "id": "bd18fa48",
   "metadata": {},
   "source": [
    "%matplotlib可以产生新的图片窗口"
   ]
  },
  {
   "cell_type": "code",
   "execution_count": 2,
   "id": "4492d2cb",
   "metadata": {},
   "outputs": [],
   "source": [
    "x = np.linspace(-1,1,50) #在[-1,1]中生成50个等间距的样本点\n",
    "y = x**2\n",
    "plt.plot(x,y)\n",
    "plt.show(block=True) "
   ]
  },
  {
   "cell_type": "markdown",
   "id": "cb1738bc",
   "metadata": {},
   "source": [
    "<br>plt.plot(x,y,format_string,**kwargs)</br> <br>x:X轴数据，列表，数组(类数组)或标量。y:Y轴数据，列表，数组(类数组)或标量。format_string:控制曲线格式字符串</br>**block=True避免图片窗口无响应**"
   ]
  }
 ],
 "metadata": {
  "kernelspec": {
   "display_name": "Python 3 (ipykernel)",
   "language": "python",
   "name": "python3"
  },
  "language_info": {
   "codemirror_mode": {
    "name": "ipython",
    "version": 3
   },
   "file_extension": ".py",
   "mimetype": "text/x-python",
   "name": "python",
   "nbconvert_exporter": "python",
   "pygments_lexer": "ipython3",
   "version": "3.9.12"
  }
 },
 "nbformat": 4,
 "nbformat_minor": 5
}
