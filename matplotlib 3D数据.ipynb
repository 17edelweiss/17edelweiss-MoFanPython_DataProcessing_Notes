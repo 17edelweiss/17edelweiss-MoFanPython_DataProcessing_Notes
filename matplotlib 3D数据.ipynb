{
 "cells": [
  {
   "cell_type": "markdown",
   "id": "39489240",
   "metadata": {},
   "source": [
    "# matpltlib 3D数据"
   ]
  },
  {
   "cell_type": "code",
   "execution_count": 1,
   "id": "15b161a2",
   "metadata": {},
   "outputs": [
    {
     "name": "stdout",
     "output_type": "stream",
     "text": [
      "Using matplotlib backend: <object object at 0x00000295624BB880>\n"
     ]
    }
   ],
   "source": [
    "import numpy as np\n",
    "import matplotlib.pyplot as plt\n",
    "from mpl_toolkits.mplot3d import Axes3D # 运用3D图像必须导入这个模块\n",
    "%matplotlib"
   ]
  },
  {
   "cell_type": "code",
   "execution_count": 2,
   "id": "2e5ad527",
   "metadata": {},
   "outputs": [
    {
     "name": "stderr",
     "output_type": "stream",
     "text": [
      "C:\\Users\\Edelweiss\\AppData\\Local\\Temp\\ipykernel_15692\\501113785.py:2: MatplotlibDeprecationWarning: Axes3D(fig) adding itself to the figure is deprecated since 3.4. Pass the keyword argument auto_add_to_figure=False and use fig.add_axes(ax) to suppress this warning. The default value of auto_add_to_figure will change to False in mpl3.5 and True values will no longer work in 3.6.  This is consistent with other Axes classes.\n",
      "  ax = Axes3D(fig)\n"
     ]
    }
   ],
   "source": [
    "fig = plt.figure()\n",
    "ax = Axes3D(fig)\n",
    "\n",
    "# X,Y value\n",
    "X = np.arange(-4,4,0.25)\n",
    "Y = np.arange(-4,4,0.25)\n",
    "X,Y = np.meshgrid(X,Y) #创建网格点矩阵\n",
    "R = np.sqrt(X**2 + Y**2)\n",
    "# height values\n",
    "Z = np.sin(R)\n",
    "\n",
    "# rstride和cstride分别表示行跨和列跨\n",
    "ax.plot_surface(X,Y,Z,rstride=1,cstride=1,cmap=plt.get_cmap(\"rainbow\"))\n",
    "ax.contourf(X,Y,Z,zdir='z',offset=-2,cmap='rainbow')\n",
    "ax.set_zlim(-2,2)\n",
    "\n",
    "plt.show(block=True)"
   ]
  }
 ],
 "metadata": {
  "kernelspec": {
   "display_name": "Python 3 (ipykernel)",
   "language": "python",
   "name": "python3"
  },
  "language_info": {
   "codemirror_mode": {
    "name": "ipython",
    "version": 3
   },
   "file_extension": ".py",
   "mimetype": "text/x-python",
   "name": "python",
   "nbconvert_exporter": "python",
   "pygments_lexer": "ipython3",
   "version": "3.9.12"
  }
 },
 "nbformat": 4,
 "nbformat_minor": 5
}
