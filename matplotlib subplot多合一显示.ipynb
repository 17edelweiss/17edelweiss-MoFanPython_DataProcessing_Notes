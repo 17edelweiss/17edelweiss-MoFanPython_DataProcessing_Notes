{
 "cells": [
  {
   "cell_type": "markdown",
   "id": "f547673c",
   "metadata": {},
   "source": [
    "# matplotlib subplot多合一显示"
   ]
  },
  {
   "cell_type": "code",
   "execution_count": 1,
   "id": "1343a22a",
   "metadata": {},
   "outputs": [
    {
     "name": "stdout",
     "output_type": "stream",
     "text": [
      "Using matplotlib backend: <object object at 0x000002169551A880>\n"
     ]
    }
   ],
   "source": [
    "import matplotlib.pyplot as plt\n",
    "%matplotlib"
   ]
  },
  {
   "cell_type": "code",
   "execution_count": 2,
   "id": "ba6220b2",
   "metadata": {},
   "outputs": [],
   "source": [
    "plt.figure()\n",
    "# 绘制子图\n",
    "plt.subplot(2,2,1) # 将整个figure分成2行2列，1表示在第一张图片绘制\n",
    "\n",
    "# 第一个列表表示x轴数据，第二个列表表示y轴数据\n",
    "# 相当于给出两个点(0,0)和(1,1)，根据两点确定一条直线\n",
    "plt.plot([0,1],[0,1])\n",
    "\n",
    "plt.subplot(2,2,2)\n",
    "plt.plot([0,1],[0,2])\n",
    "\n",
    "plt.subplot(2,2,3)\n",
    "plt.plot([0,1],[0,3])\n",
    "\n",
    "plt.subplot(2,2,4)\n",
    "plt.plot([0,1],[0,4])\n",
    "\n",
    "plt.show(block=True)"
   ]
  },
  {
   "cell_type": "code",
   "execution_count": 3,
   "id": "85a1a591",
   "metadata": {},
   "outputs": [],
   "source": [
    "plt.figure()\n",
    "# 第一行只需要一列\n",
    "plt.subplot(2,1,1)\n",
    "plt.plot([0,1],[0,1])\n",
    "\n",
    "# 每一个图标的位置都按它所划分的网格来计算\n",
    "plt.subplot(2,3,4) # 如果第三个参数是2，那么会排在第一行的第二列\n",
    "plt.plot([0,1],[0,2])\n",
    "\n",
    "plt.subplot(2,3,5)\n",
    "plt.plot([0,1],[0,3])\n",
    "\n",
    "plt.subplot(2,3,6)\n",
    "plt.plot([0,1],[0,4])\n",
    "\n",
    "plt.show(block=True)"
   ]
  }
 ],
 "metadata": {
  "kernelspec": {
   "display_name": "Python 3 (ipykernel)",
   "language": "python",
   "name": "python3"
  },
  "language_info": {
   "codemirror_mode": {
    "name": "ipython",
    "version": 3
   },
   "file_extension": ".py",
   "mimetype": "text/x-python",
   "name": "python",
   "nbconvert_exporter": "python",
   "pygments_lexer": "ipython3",
   "version": "3.9.12"
  }
 },
 "nbformat": 4,
 "nbformat_minor": 5
}
