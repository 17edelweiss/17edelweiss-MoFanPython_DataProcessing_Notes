{
 "cells": [
  {
   "cell_type": "markdown",
   "id": "dbe8b631",
   "metadata": {},
   "source": [
    "# numpy array分割"
   ]
  },
  {
   "cell_type": "code",
   "execution_count": 1,
   "id": "d17e881e",
   "metadata": {},
   "outputs": [],
   "source": [
    "import numpy as np"
   ]
  },
  {
   "cell_type": "markdown",
   "id": "6f4ce8a7",
   "metadata": {},
   "source": [
    "先创建一个3行4列的矩阵"
   ]
  },
  {
   "cell_type": "code",
   "execution_count": 2,
   "id": "c473514e",
   "metadata": {},
   "outputs": [
    {
     "name": "stdout",
     "output_type": "stream",
     "text": [
      "[[ 0  1  2  3]\n",
      " [ 4  5  6  7]\n",
      " [ 8  9 10 11]]\n"
     ]
    }
   ],
   "source": [
    "A = np.arange(12).reshape((3,4))\n",
    "print(A)"
   ]
  },
  {
   "cell_type": "markdown",
   "id": "96574214",
   "metadata": {},
   "source": [
    "## 进行相等的分割"
   ]
  },
  {
   "cell_type": "markdown",
   "id": "ab6ec4e6",
   "metadata": {},
   "source": [
    "按列进行分割，axis=1对行操作，将每一行左右分割"
   ]
  },
  {
   "cell_type": "code",
   "execution_count": 3,
   "id": "92d6caa9",
   "metadata": {},
   "outputs": [
    {
     "name": "stdout",
     "output_type": "stream",
     "text": [
      "[array([[0, 1],\n",
      "       [4, 5],\n",
      "       [8, 9]]), array([[ 2,  3],\n",
      "       [ 6,  7],\n",
      "       [10, 11]])]\n"
     ]
    }
   ],
   "source": [
    "print(np.split(A,2,axis=1))"
   ]
  },
  {
   "cell_type": "markdown",
   "id": "8834e332",
   "metadata": {},
   "source": [
    "按行进行分割，axis=0对列进行操作，将每一列上下分割"
   ]
  },
  {
   "cell_type": "code",
   "execution_count": 4,
   "id": "a9522b94",
   "metadata": {},
   "outputs": [
    {
     "name": "stdout",
     "output_type": "stream",
     "text": [
      "[array([[0, 1, 2, 3]]), array([[4, 5, 6, 7]]), array([[ 8,  9, 10, 11]])]\n"
     ]
    }
   ],
   "source": [
    "print(np.split(A,3,axis=0))"
   ]
  },
  {
   "cell_type": "markdown",
   "id": "0a981267",
   "metadata": {},
   "source": [
    "## 进行不相等的分割"
   ]
  },
  {
   "cell_type": "code",
   "execution_count": 5,
   "id": "40fb3afb",
   "metadata": {},
   "outputs": [
    {
     "name": "stdout",
     "output_type": "stream",
     "text": [
      "[array([[0, 1],\n",
      "       [4, 5],\n",
      "       [8, 9]]), array([[ 2],\n",
      "       [ 6],\n",
      "       [10]]), array([[ 3],\n",
      "       [ 7],\n",
      "       [11]])]\n"
     ]
    }
   ],
   "source": [
    "print(np.array_split(A,3,axis=1))"
   ]
  },
  {
   "cell_type": "markdown",
   "id": "e9d661e5",
   "metadata": {},
   "source": [
    "## 简化的分割函数"
   ]
  },
  {
   "cell_type": "markdown",
   "id": "18edbf8a",
   "metadata": {},
   "source": [
    "**以下函数也只能进行相等的分割**"
   ]
  },
  {
   "cell_type": "markdown",
   "id": "a6ffaac4",
   "metadata": {},
   "source": [
    "### 垂直分割(vertical split)"
   ]
  },
  {
   "cell_type": "markdown",
   "id": "8c46d441",
   "metadata": {},
   "source": [
    "垂直(按行)将一个数组拆分为多个子数组，等价于axis=0，切割竖向线"
   ]
  },
  {
   "cell_type": "code",
   "execution_count": 6,
   "id": "960e1eb3",
   "metadata": {},
   "outputs": [
    {
     "name": "stdout",
     "output_type": "stream",
     "text": [
      "[array([[0, 1, 2, 3]]), array([[4, 5, 6, 7]]), array([[ 8,  9, 10, 11]])]\n"
     ]
    }
   ],
   "source": [
    "print(np.vsplit(A,3))"
   ]
  },
  {
   "cell_type": "markdown",
   "id": "d21e3dcd",
   "metadata": {},
   "source": [
    "### 水平分割(horizontal split)"
   ]
  },
  {
   "cell_type": "markdown",
   "id": "c767af98",
   "metadata": {},
   "source": [
    "水平(按列)将数组拆分为多个子数组，等价于axis=1，切割横向线"
   ]
  },
  {
   "cell_type": "code",
   "execution_count": 7,
   "id": "f58f2ccb",
   "metadata": {},
   "outputs": [
    {
     "name": "stdout",
     "output_type": "stream",
     "text": [
      "[array([[0, 1],\n",
      "       [4, 5],\n",
      "       [8, 9]]), array([[ 2,  3],\n",
      "       [ 6,  7],\n",
      "       [10, 11]])]\n"
     ]
    }
   ],
   "source": [
    "print(np.hsplit(A,2))"
   ]
  }
 ],
 "metadata": {
  "kernelspec": {
   "display_name": "Python 3 (ipykernel)",
   "language": "python",
   "name": "python3"
  },
  "language_info": {
   "codemirror_mode": {
    "name": "ipython",
    "version": 3
   },
   "file_extension": ".py",
   "mimetype": "text/x-python",
   "name": "python",
   "nbconvert_exporter": "python",
   "pygments_lexer": "ipython3",
   "version": "3.9.12"
  }
 },
 "nbformat": 4,
 "nbformat_minor": 5
}
