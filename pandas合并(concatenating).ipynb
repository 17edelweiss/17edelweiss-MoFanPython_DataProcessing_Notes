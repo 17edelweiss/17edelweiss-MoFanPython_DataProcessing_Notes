{
 "cells": [
  {
   "cell_type": "markdown",
   "id": "56b02f21",
   "metadata": {},
   "source": [
    "# pandas合并(concatenating )"
   ]
  },
  {
   "cell_type": "code",
   "execution_count": 1,
   "id": "4e989c5b",
   "metadata": {},
   "outputs": [],
   "source": [
    "import pandas as pd\n",
    "import numpy as np"
   ]
  },
  {
   "cell_type": "code",
   "execution_count": 2,
   "id": "85c43681",
   "metadata": {},
   "outputs": [
    {
     "name": "stdout",
     "output_type": "stream",
     "text": [
      "     a    b    c    d\n",
      "0  0.0  0.0  0.0  0.0\n",
      "1  0.0  0.0  0.0  0.0\n",
      "2  0.0  0.0  0.0  0.0\n",
      "     a    b    c    d\n",
      "0  1.0  1.0  1.0  1.0\n",
      "1  1.0  1.0  1.0  1.0\n",
      "2  1.0  1.0  1.0  1.0\n",
      "     a    b    c    d\n",
      "0  2.0  2.0  2.0  2.0\n",
      "1  2.0  2.0  2.0  2.0\n",
      "2  2.0  2.0  2.0  2.0\n"
     ]
    }
   ],
   "source": [
    "df1 = pd.DataFrame(np.ones((3,4))*0,columns=['a','b','c','d'])\n",
    "df2 = pd.DataFrame(np.ones((3,4))*1,columns=['a','b','c','d'])\n",
    "df3 = pd.DataFrame(np.ones((3,4))*2,columns=['a','b','c','d'])\n",
    "print(df1)\n",
    "print(df2)\n",
    "print(df3)"
   ]
  },
  {
   "cell_type": "markdown",
   "id": "f388f08a",
   "metadata": {},
   "source": [
    "## 上下合并"
   ]
  },
  {
   "cell_type": "markdown",
   "id": "e814836b",
   "metadata": {},
   "source": [
    "axis参数默认为0"
   ]
  },
  {
   "cell_type": "code",
   "execution_count": 3,
   "id": "223d2615",
   "metadata": {},
   "outputs": [
    {
     "name": "stdout",
     "output_type": "stream",
     "text": [
      "     a    b    c    d\n",
      "0  0.0  0.0  0.0  0.0\n",
      "1  0.0  0.0  0.0  0.0\n",
      "2  0.0  0.0  0.0  0.0\n",
      "0  1.0  1.0  1.0  1.0\n",
      "1  1.0  1.0  1.0  1.0\n",
      "2  1.0  1.0  1.0  1.0\n",
      "0  2.0  2.0  2.0  2.0\n",
      "1  2.0  2.0  2.0  2.0\n",
      "2  2.0  2.0  2.0  2.0\n"
     ]
    }
   ],
   "source": [
    "res = pd.concat([df1,df2,df3],axis=0)\n",
    "print(res)"
   ]
  },
  {
   "cell_type": "markdown",
   "id": "46a8b771",
   "metadata": {},
   "source": [
    "如果想要使行索引变得有序，就需要增加一个参数，忽略掉之前这三个DataFrame的行索引"
   ]
  },
  {
   "cell_type": "code",
   "execution_count": 4,
   "id": "57aaa9cc",
   "metadata": {},
   "outputs": [
    {
     "name": "stdout",
     "output_type": "stream",
     "text": [
      "     a    b    c    d\n",
      "0  0.0  0.0  0.0  0.0\n",
      "1  0.0  0.0  0.0  0.0\n",
      "2  0.0  0.0  0.0  0.0\n",
      "3  1.0  1.0  1.0  1.0\n",
      "4  1.0  1.0  1.0  1.0\n",
      "5  1.0  1.0  1.0  1.0\n",
      "6  2.0  2.0  2.0  2.0\n",
      "7  2.0  2.0  2.0  2.0\n",
      "8  2.0  2.0  2.0  2.0\n"
     ]
    }
   ],
   "source": [
    "res = pd.concat([df1,df2,df3],axis=0,ignore_index=True)\n",
    "print(res)"
   ]
  },
  {
   "cell_type": "markdown",
   "id": "a0afefc9",
   "metadata": {},
   "source": [
    "## concat的join参数"
   ]
  },
  {
   "cell_type": "markdown",
   "id": "02f21a02",
   "metadata": {},
   "source": [
    "join有两种值，'inner'和'outer'，默认为'outer'"
   ]
  },
  {
   "cell_type": "code",
   "execution_count": 5,
   "id": "ce2df261",
   "metadata": {},
   "outputs": [
    {
     "name": "stdout",
     "output_type": "stream",
     "text": [
      "     a    b    c    d\n",
      "1  0.0  0.0  0.0  0.0\n",
      "2  0.0  0.0  0.0  0.0\n",
      "3  0.0  0.0  0.0  0.0\n",
      "     b    c    d    e\n",
      "2  1.0  1.0  1.0  1.0\n",
      "3  1.0  1.0  1.0  1.0\n",
      "4  1.0  1.0  1.0  1.0\n"
     ]
    }
   ],
   "source": [
    "df1 = pd.DataFrame(np.ones((3,4))*0,columns=['a','b','c','d'],index=[1,2,3])\n",
    "df2 = pd.DataFrame(np.ones((3,4))*1,columns=['b','c','d','e'],index=[2,3,4])\n",
    "print(df1)\n",
    "print(df2)"
   ]
  },
  {
   "cell_type": "code",
   "execution_count": 6,
   "id": "af0b6565",
   "metadata": {},
   "outputs": [
    {
     "name": "stdout",
     "output_type": "stream",
     "text": [
      "     a    b    c    d    e\n",
      "1  0.0  0.0  0.0  0.0  NaN\n",
      "2  0.0  0.0  0.0  0.0  NaN\n",
      "3  0.0  0.0  0.0  0.0  NaN\n",
      "2  NaN  1.0  1.0  1.0  1.0\n",
      "3  NaN  1.0  1.0  1.0  1.0\n",
      "4  NaN  1.0  1.0  1.0  1.0\n"
     ]
    }
   ],
   "source": [
    "res = pd.concat([df1,df2])\n",
    "print(res)"
   ]
  },
  {
   "cell_type": "markdown",
   "id": "9cdf360a",
   "metadata": {},
   "source": [
    "内连接只保留两个DataFrame相同的列"
   ]
  },
  {
   "cell_type": "code",
   "execution_count": 7,
   "id": "98da45d5",
   "metadata": {},
   "outputs": [
    {
     "name": "stdout",
     "output_type": "stream",
     "text": [
      "     b    c    d\n",
      "1  0.0  0.0  0.0\n",
      "2  0.0  0.0  0.0\n",
      "3  0.0  0.0  0.0\n",
      "2  1.0  1.0  1.0\n",
      "3  1.0  1.0  1.0\n",
      "4  1.0  1.0  1.0\n"
     ]
    }
   ],
   "source": [
    "res = pd.concat([df1,df2],join='inner')\n",
    "print(res)"
   ]
  },
  {
   "cell_type": "markdown",
   "id": "7bca5797",
   "metadata": {},
   "source": [
    "如果想使行索引有序，使用ignore_index参数"
   ]
  },
  {
   "cell_type": "code",
   "execution_count": 8,
   "id": "e7309854",
   "metadata": {},
   "outputs": [
    {
     "name": "stdout",
     "output_type": "stream",
     "text": [
      "     b    c    d\n",
      "0  0.0  0.0  0.0\n",
      "1  0.0  0.0  0.0\n",
      "2  0.0  0.0  0.0\n",
      "3  1.0  1.0  1.0\n",
      "4  1.0  1.0  1.0\n",
      "5  1.0  1.0  1.0\n"
     ]
    }
   ],
   "source": [
    "res = pd.concat([df1,df2],join='inner',ignore_index=True)\n",
    "print(res)"
   ]
  },
  {
   "cell_type": "markdown",
   "id": "d52eab2b",
   "metadata": {},
   "source": [
    "## append"
   ]
  },
  {
   "cell_type": "markdown",
   "id": "fd45af60",
   "metadata": {},
   "source": [
    "append不推荐使用"
   ]
  },
  {
   "cell_type": "code",
   "execution_count": 9,
   "id": "913ef8d9",
   "metadata": {},
   "outputs": [
    {
     "name": "stdout",
     "output_type": "stream",
     "text": [
      "     a    b    c    d\n",
      "0  0.0  0.0  0.0  0.0\n",
      "1  0.0  0.0  0.0  0.0\n",
      "2  0.0  0.0  0.0  0.0\n",
      "3  1.0  1.0  1.0  1.0\n",
      "4  1.0  1.0  1.0  1.0\n",
      "5  1.0  1.0  1.0  1.0\n"
     ]
    },
    {
     "name": "stderr",
     "output_type": "stream",
     "text": [
      "C:\\Users\\Edelweiss\\AppData\\Local\\Temp\\ipykernel_17552\\2625132599.py:3: FutureWarning: The frame.append method is deprecated and will be removed from pandas in a future version. Use pandas.concat instead.\n",
      "  res = df1.append(df2,ignore_index=True)\n"
     ]
    }
   ],
   "source": [
    "df1 = pd.DataFrame(np.ones((3,4))*0,columns=['a','b','c','d'])\n",
    "df2 = pd.DataFrame(np.ones((3,4))*1,columns=['a','b','c','d'])\n",
    "res = df1.append(df2,ignore_index=True)\n",
    "print(res)"
   ]
  },
  {
   "cell_type": "markdown",
   "id": "56ad963f",
   "metadata": {},
   "source": [
    "append多个DataFrame"
   ]
  },
  {
   "cell_type": "code",
   "execution_count": 10,
   "id": "33eafef5",
   "metadata": {},
   "outputs": [
    {
     "name": "stdout",
     "output_type": "stream",
     "text": [
      "     a    b    c    d\n",
      "0  0.0  0.0  0.0  0.0\n",
      "1  0.0  0.0  0.0  0.0\n",
      "2  0.0  0.0  0.0  0.0\n",
      "3  1.0  1.0  1.0  1.0\n",
      "4  1.0  1.0  1.0  1.0\n",
      "5  1.0  1.0  1.0  1.0\n",
      "6  2.0  2.0  2.0  2.0\n",
      "7  2.0  2.0  2.0  2.0\n",
      "8  2.0  2.0  2.0  2.0\n"
     ]
    },
    {
     "name": "stderr",
     "output_type": "stream",
     "text": [
      "C:\\Users\\Edelweiss\\AppData\\Local\\Temp\\ipykernel_17552\\884983122.py:4: FutureWarning: The frame.append method is deprecated and will be removed from pandas in a future version. Use pandas.concat instead.\n",
      "  res = df1.append([df2,df3],ignore_index=True)\n"
     ]
    }
   ],
   "source": [
    "df1 = pd.DataFrame(np.ones((3,4))*0,columns=['a','b','c','d'])\n",
    "df2 = pd.DataFrame(np.ones((3,4))*1,columns=['a','b','c','d'])\n",
    "df3 = pd.DataFrame(np.ones((3,4))*2,columns=['a','b','c','d'])\n",
    "res = df1.append([df2,df3],ignore_index=True)\n",
    "print(res)"
   ]
  },
  {
   "cell_type": "markdown",
   "id": "4084de46",
   "metadata": {},
   "source": [
    "每次添加一行"
   ]
  },
  {
   "cell_type": "code",
   "execution_count": 11,
   "id": "1ff9dbb4",
   "metadata": {},
   "outputs": [
    {
     "name": "stdout",
     "output_type": "stream",
     "text": [
      "     a    b    c    d\n",
      "0  0.0  0.0  0.0  0.0\n",
      "1  0.0  0.0  0.0  0.0\n",
      "2  0.0  0.0  0.0  0.0\n",
      "3  1.0  2.0  3.0  4.0\n"
     ]
    },
    {
     "name": "stderr",
     "output_type": "stream",
     "text": [
      "C:\\Users\\Edelweiss\\AppData\\Local\\Temp\\ipykernel_17552\\4136848313.py:3: FutureWarning: The frame.append method is deprecated and will be removed from pandas in a future version. Use pandas.concat instead.\n",
      "  res = df1.append(s1,ignore_index=True)\n"
     ]
    }
   ],
   "source": [
    "df1 = pd.DataFrame(np.ones((3,4))*0,columns=['a','b','c','d'])\n",
    "s1 = pd.Series([1,2,3,4],index=['a','b','c','d'])\n",
    "res = df1.append(s1,ignore_index=True)\n",
    "print(res)"
   ]
  }
 ],
 "metadata": {
  "kernelspec": {
   "display_name": "Python 3 (ipykernel)",
   "language": "python",
   "name": "python3"
  },
  "language_info": {
   "codemirror_mode": {
    "name": "ipython",
    "version": 3
   },
   "file_extension": ".py",
   "mimetype": "text/x-python",
   "name": "python",
   "nbconvert_exporter": "python",
   "pygments_lexer": "ipython3",
   "version": "3.9.12"
  }
 },
 "nbformat": 4,
 "nbformat_minor": 5
}
