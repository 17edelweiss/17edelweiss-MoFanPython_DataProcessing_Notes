{
 "cells": [
  {
   "cell_type": "markdown",
   "id": "e6c7d601",
   "metadata": {},
   "source": [
    "# matplotlib legend图例"
   ]
  },
  {
   "cell_type": "code",
   "execution_count": 1,
   "id": "0cd70342",
   "metadata": {},
   "outputs": [
    {
     "name": "stdout",
     "output_type": "stream",
     "text": [
      "Using matplotlib backend: <object object at 0x000001B6D9B28880>\n"
     ]
    }
   ],
   "source": [
    "import matplotlib.pyplot as plt\n",
    "import numpy as np\n",
    "%matplotlib"
   ]
  },
  {
   "cell_type": "code",
   "execution_count": 2,
   "id": "9e14c10c",
   "metadata": {},
   "outputs": [
    {
     "name": "stdout",
     "output_type": "stream",
     "text": [
      "[-1.   -0.25  0.5   1.25  2.  ]\n"
     ]
    }
   ],
   "source": [
    "x = np.linspace(-3,3,50)\n",
    "y1 = 2*x+1\n",
    "y2 = x**2\n",
    "\n",
    "plt.figure()\n",
    "\n",
    "plt.xlim((-1,2)) #设置x轴的取值范围\n",
    "plt.ylim((-2,3)) #设置y轴的取值范围\n",
    "plt.xlabel(\"I am x\") #描述x轴\n",
    "plt.ylabel('I am y') #描述y轴\n",
    "\n",
    "new_ticks = np.linspace(-1,2,5)\n",
    "print(new_ticks)\n",
    "plt.xticks(new_ticks) #修改x轴的刻标\n",
    "plt.yticks([-2,-1.8,-1,1.22,3],\n",
    "           [r'$really\\ bad$',r'$bad\\ \\alpha$',r'$normal$',r'$good$',r'$really\\ good$']) #修改y轴的刻度标签\n",
    "\n",
    "l1, = plt.plot(x,y2,label='up')\n",
    "l2, = plt.plot(x,y1,color='red',linewidth=1.0,linestyle='--',label='down')\n",
    "#loc表示legend的位置\n",
    "plt.legend(handles=[l1,l2],labels=['aaa','bbb'],loc='best')\n",
    "\n",
    "plt.show(block = True)"
   ]
  }
 ],
 "metadata": {
  "kernelspec": {
   "display_name": "Python 3 (ipykernel)",
   "language": "python",
   "name": "python3"
  },
  "language_info": {
   "codemirror_mode": {
    "name": "ipython",
    "version": 3
   },
   "file_extension": ".py",
   "mimetype": "text/x-python",
   "name": "python",
   "nbconvert_exporter": "python",
   "pygments_lexer": "ipython3",
   "version": "3.9.12"
  }
 },
 "nbformat": 4,
 "nbformat_minor": 5
}
