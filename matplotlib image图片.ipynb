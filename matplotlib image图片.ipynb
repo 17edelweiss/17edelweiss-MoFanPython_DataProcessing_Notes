{
 "cells": [
  {
   "cell_type": "markdown",
   "id": "ad4bdf72",
   "metadata": {},
   "source": [
    "# matplotlib image图片"
   ]
  },
  {
   "cell_type": "code",
   "execution_count": 1,
   "id": "2a135be4",
   "metadata": {},
   "outputs": [
    {
     "name": "stdout",
     "output_type": "stream",
     "text": [
      "Using matplotlib backend: <object object at 0x0000026AF20A8880>\n"
     ]
    }
   ],
   "source": [
    "import matplotlib.pyplot as plt\n",
    "import numpy as np\n",
    "%matplotlib"
   ]
  },
  {
   "cell_type": "code",
   "execution_count": 2,
   "id": "74adb793",
   "metadata": {},
   "outputs": [],
   "source": [
    "# image data\n",
    "a = np.array([0.313660827978,0.365348418405,0.423733120134,\n",
    "              0.365348418405,0.439599930621,0.525083754405,\n",
    "              0.423733120134,0.525083754405,0.651536351379]).reshape(3,3)\n",
    "\n",
    "plt.imshow(a,interpolation='nearest',cmap='bone',origin='upper')\n",
    "# 设置标注\n",
    "plt.colorbar(shrink=0.9) # shrink表示压缩\n",
    "plt.xticks(())\n",
    "plt.yticks(())\n",
    "plt.show(block=True)"
   ]
  }
 ],
 "metadata": {
  "kernelspec": {
   "display_name": "Python 3 (ipykernel)",
   "language": "python",
   "name": "python3"
  },
  "language_info": {
   "codemirror_mode": {
    "name": "ipython",
    "version": 3
   },
   "file_extension": ".py",
   "mimetype": "text/x-python",
   "name": "python",
   "nbconvert_exporter": "python",
   "pygments_lexer": "ipython3",
   "version": "3.9.12"
  }
 },
 "nbformat": 4,
 "nbformat_minor": 5
}
