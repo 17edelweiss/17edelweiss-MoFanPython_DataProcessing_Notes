{
 "cells": [
  {
   "cell_type": "markdown",
   "id": "95e534d1",
   "metadata": {},
   "source": [
    "# numpy基本属性"
   ]
  },
  {
   "cell_type": "markdown",
   "id": "bc06a10d",
   "metadata": {},
   "source": [
    "因为numpy是一个外部模块，所以首先需要导入numpy"
   ]
  },
  {
   "cell_type": "code",
   "execution_count": 1,
   "id": "614d97f3",
   "metadata": {},
   "outputs": [],
   "source": [
    "import numpy as np"
   ]
  },
  {
   "cell_type": "markdown",
   "id": "1829cd60",
   "metadata": {},
   "source": [
    "因为numpy是基于矩阵的运算，需要将列表转换为numpy可以识别的数组(也可视为矩阵)"
   ]
  },
  {
   "cell_type": "code",
   "execution_count": 2,
   "id": "9ad570ad",
   "metadata": {},
   "outputs": [
    {
     "name": "stdout",
     "output_type": "stream",
     "text": [
      "[[1 2 3]\n",
      " [2 3 4]]\n"
     ]
    }
   ],
   "source": [
    "array = np.array([[1,2,3],\n",
    "                  [2,3,4]])\n",
    "print(array)"
   ]
  },
  {
   "cell_type": "markdown",
   "id": "6da980f5",
   "metadata": {},
   "source": [
    "## 数组的其他属性"
   ]
  },
  {
   "cell_type": "markdown",
   "id": "703964e6",
   "metadata": {},
   "source": [
    "数组的维度(一维数组还是二维数组...)"
   ]
  },
  {
   "cell_type": "code",
   "execution_count": 3,
   "id": "e47cf687",
   "metadata": {},
   "outputs": [
    {
     "name": "stdout",
     "output_type": "stream",
     "text": [
      "数组的维度为: 2\n"
     ]
    }
   ],
   "source": [
    "print('数组的维度为:',array.ndim)"
   ]
  },
  {
   "cell_type": "code",
   "execution_count": 4,
   "id": "63c44c5b",
   "metadata": {},
   "outputs": [
    {
     "name": "stdout",
     "output_type": "stream",
     "text": [
      "数组的形状是(几行几列): (2, 3)\n",
      "数组一共有多少个元素: 6\n"
     ]
    }
   ],
   "source": [
    "print('数组的形状是(几行几列):',array.shape)\n",
    "print('数组一共有多少个元素:',array.size)"
   ]
  }
 ],
 "metadata": {
  "kernelspec": {
   "display_name": "Python 3 (ipykernel)",
   "language": "python",
   "name": "python3"
  },
  "language_info": {
   "codemirror_mode": {
    "name": "ipython",
    "version": 3
   },
   "file_extension": ".py",
   "mimetype": "text/x-python",
   "name": "python",
   "nbconvert_exporter": "python",
   "pygments_lexer": "ipython3",
   "version": "3.9.12"
  }
 },
 "nbformat": 4,
 "nbformat_minor": 5
}
